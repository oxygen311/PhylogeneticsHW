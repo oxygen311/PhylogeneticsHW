{
 "cells": [
  {
   "cell_type": "code",
   "execution_count": 1,
   "metadata": {
    "collapsed": true,
    "pycharm": {
     "is_executing": false
    }
   },
   "outputs": [],
   "source": [
    "from Bio import Entrez\n",
    "from pprint import pprint\n",
    "\n",
    "import pandas as pd\n",
    "\n",
    "Entrez.email = \"a.zabelkin@itmo.ru\""
   ]
  },
  {
   "cell_type": "markdown",
   "source": [
    "### 1. queries the base of nucleotide sequences for all sequences according to the name of the gene"
   ],
   "metadata": {
    "collapsed": false,
    "pycharm": {
     "name": "#%% md\n",
     "is_executing": false
    }
   }
  },
  {
   "cell_type": "code",
   "execution_count": 2,
   "outputs": [],
   "source": [
    "esearch_handle = Entrez.esearch(db=\"nucleotide\", term='\"human\"[Organism] AND GSPT1[Gene]')\n",
    "ids = Entrez.read(esearch_handle)['IdList']\n",
    "\n",
    "esummary_handle = Entrez.esummary(db=\"nucleotide\", id=','.join(ids))\n",
    "summaries = Entrez.read(esummary_handle)"
   ],
   "metadata": {
    "collapsed": false,
    "pycharm": {
     "name": "#%%\n",
     "is_executing": false
    }
   }
  },
  {
   "cell_type": "markdown",
   "source": [
    "### 2. returns a table"
   ],
   "metadata": {
    "collapsed": false,
    "pycharm": {
     "name": "#%% md\n"
    }
   }
  },
  {
   "cell_type": "code",
   "execution_count": 3,
   "outputs": [
    {
     "data": {
      "text/plain": "          UID accession number  sequence length\n0  1676355513     NM_001130006             7138\n1  1676319656     NM_001130007             7166\n2  1519312966        NM_002094             7141\n3   568815582        NC_000016         90338345\n4    74273666         CM000267         75226909\n5    74230029         CH471112         14690834\n6    33874733         BC009503             2523\n7    39754980         AY398991             1562\n8   307685420         AB590486             1919",
      "text/html": "<div>\n<style scoped>\n    .dataframe tbody tr th:only-of-type {\n        vertical-align: middle;\n    }\n\n    .dataframe tbody tr th {\n        vertical-align: top;\n    }\n\n    .dataframe thead th {\n        text-align: right;\n    }\n</style>\n<table border=\"1\" class=\"dataframe\">\n  <thead>\n    <tr style=\"text-align: right;\">\n      <th></th>\n      <th>UID</th>\n      <th>accession number</th>\n      <th>sequence length</th>\n    </tr>\n  </thead>\n  <tbody>\n    <tr>\n      <td>0</td>\n      <td>1676355513</td>\n      <td>NM_001130006</td>\n      <td>7138</td>\n    </tr>\n    <tr>\n      <td>1</td>\n      <td>1676319656</td>\n      <td>NM_001130007</td>\n      <td>7166</td>\n    </tr>\n    <tr>\n      <td>2</td>\n      <td>1519312966</td>\n      <td>NM_002094</td>\n      <td>7141</td>\n    </tr>\n    <tr>\n      <td>3</td>\n      <td>568815582</td>\n      <td>NC_000016</td>\n      <td>90338345</td>\n    </tr>\n    <tr>\n      <td>4</td>\n      <td>74273666</td>\n      <td>CM000267</td>\n      <td>75226909</td>\n    </tr>\n    <tr>\n      <td>5</td>\n      <td>74230029</td>\n      <td>CH471112</td>\n      <td>14690834</td>\n    </tr>\n    <tr>\n      <td>6</td>\n      <td>33874733</td>\n      <td>BC009503</td>\n      <td>2523</td>\n    </tr>\n    <tr>\n      <td>7</td>\n      <td>39754980</td>\n      <td>AY398991</td>\n      <td>1562</td>\n    </tr>\n    <tr>\n      <td>8</td>\n      <td>307685420</td>\n      <td>AB590486</td>\n      <td>1919</td>\n    </tr>\n  </tbody>\n</table>\n</div>"
     },
     "metadata": {},
     "output_type": "execute_result",
     "execution_count": 3
    }
   ],
   "source": [
    "def get_table(summaries):\n",
    "    return pd.DataFrame([[s['Id'], s['Caption'], s['Length']] for s in summaries], \n",
    "                        columns=['UID', 'accession number', 'sequence length'])\n",
    "\n",
    "get_table(summaries)"
   ],
   "metadata": {
    "collapsed": false,
    "pycharm": {
     "name": "#%%\n",
     "is_executing": false
    }
   }
  },
  {
   "cell_type": "markdown",
   "source": [
    "### 3. returns the nucleotide sequences in fasta format and writes to the file;*\n"
   ],
   "metadata": {
    "collapsed": false,
    "pycharm": {
     "name": "#%% md\n"
    }
   }
  },
  {
   "cell_type": "code",
   "execution_count": 4,
   "outputs": [
    {
     "name": "stdout",
     "text": [
      "1676355513\n",
      "1676319656\n",
      "1519312966\n"
     ],
     "output_type": "stream"
    }
   ],
   "source": [
    "def get_fasta_and_write_to_file(id, folder):\n",
    "    fasta = Entrez.efetch(db=\"nucleotide\", id=id, rettype=\"fasta\", retmode=\"text\").read()\n",
    "    with open(folder + '{id}.fasta', 'w') as f:\n",
    "        f.write(fasta)\n",
    "    return fasta\n",
    "\n",
    "for id in ids[:3]:\n",
    "    print(id)\n",
    "    get_fasta_and_write_to_file(id, 'data_part1/task3/')"
   ],
   "metadata": {
    "collapsed": false,
    "pycharm": {
     "name": "#%%\n",
     "is_executing": false
    }
   }
  },
  {
   "cell_type": "markdown",
   "source": [
    "### 4. downloads all sequences from the paper with given PMID"
   ],
   "metadata": {
    "collapsed": false,
    "pycharm": {
     "name": "#%% md\n",
     "is_executing": true
    }
   }
  },
  {
   "cell_type": "code",
   "execution_count": 5,
   "outputs": [
    {
     "name": "stdout",
     "text": [
      "19568061\n",
      "19568059\n",
      "19568057\n"
     ],
     "output_type": "stream"
    }
   ],
   "source": [
    "elink_handle = Entrez.elink(fromdb='pubmed', db='nucleotide', id='12890024')\n",
    "bs = Entrez.read(elink_handle)\n",
    "\n",
    "ids = [id_element['Id'] for b in bs for link_set_db in b['LinkSetDb'] for id_element in link_set_db['Link']]\n",
    "\n",
    "for id in ids[:3]:\n",
    "    print(id)\n",
    "    get_fasta_and_write_to_file(id, 'data_part1/task4/')"
   ],
   "metadata": {
    "collapsed": false,
    "pycharm": {
     "name": "#%%\n",
     "is_executing": false
    }
   }
  },
  {
   "cell_type": "code",
   "execution_count": 5,
   "outputs": [],
   "source": [
    "\n"
   ],
   "metadata": {
    "collapsed": false,
    "pycharm": {
     "name": "#%%\n",
     "is_executing": false
    }
   }
  }
 ],
 "metadata": {
  "kernelspec": {
   "display_name": "Python 3",
   "language": "python",
   "name": "python3"
  },
  "language_info": {
   "codemirror_mode": {
    "name": "ipython",
    "version": 2
   },
   "file_extension": ".py",
   "mimetype": "text/x-python",
   "name": "python",
   "nbconvert_exporter": "python",
   "pygments_lexer": "ipython2",
   "version": "2.7.6"
  },
  "pycharm": {
   "stem_cell": {
    "cell_type": "raw",
    "source": [],
    "metadata": {
     "collapsed": false
    }
   }
  }
 },
 "nbformat": 4,
 "nbformat_minor": 0
}