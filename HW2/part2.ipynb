{
 "cells": [
  {
   "cell_type": "markdown",
   "metadata": {
    "collapsed": true,
    "pycharm": {
     "name": "#%% md\n"
    }
   },
   "source": [
    "### 1. What sequences were used for analysis? Provide type of biopolymer, organism, gene name.\n",
    "\n",
    "Nucleotide sequences of SUP35 (Systematic Name YDR172W) protein from form Yeast."
   ]
  },
  {
   "cell_type": "code",
   "execution_count": 1,
   "outputs": [
    {
     "name": "stdout",
     "text": [
      ">SUP35_Kla_AB039749\r\nATGTCAGACCAACAAAATCAAGACCAAGGGCAAGGCCAAGGTTACAATCAGTATAACCAATATGGCCAGT\r\n"
     ],
     "output_type": "stream"
    }
   ],
   "source": [
    "!head -n 2 data_part2/SUP35_10seqs.fa"
   ],
   "metadata": {
    "collapsed": false,
    "pycharm": {
     "name": "#%%\n",
     "is_executing": false
    }
   }
  },
  {
   "cell_type": "markdown",
   "source": [
    "### 2. Run at least 4 different alignment algorithms. Create comparison table with running time* and comments on the DNA alignment quality for the above algorithms**. Which algorithm is better to use?"
   ],
   "metadata": {
    "collapsed": false,
    "pycharm": {
     "name": "#%% md\n"
    }
   }
  },
  {
   "cell_type": "code",
   "execution_count": 2,
   "outputs": [
    {
     "name": "stdout",
     "text": [
      "\r\nMUSCLE v3.8.1551 by Robert C. Edgar\r\n\r\nhttp://www.drive5.com/muscle\r\nThis software is donated to the public domain.\r\nPlease cite: Edgar, R.C. Nucleic Acids Res 32(5), 1792-97.\r\n\r\nSUP35_10seqs 10 seqs, lengths min 2001, max 2103, avg 2049\r\n00:00:00      1 MB(0%)  Iter   1    1.82%  K-mer dist pass 1\r00:00:00      1 MB(0%)  Iter   1  100.00%  K-mer dist pass 1\r\r\n00:00:00      1 MB(0%)  Iter   1    1.82%  K-mer dist pass 2\r00:00:00      1 MB(0%)  Iter   1  100.00%  K-mer dist pass 2\r\r\n00:00:00      4 MB(0%)  Iter   1   11.11%  Align node       \r",
      "00:00:00     14 MB(0%)  Iter   1   22.22%  Align node\r",
      "00:00:00     15 MB(0%)  Iter   1   33.33%  Align node\r",
      "00:00:00     16 MB(0%)  Iter   1   44.44%  Align node\r",
      "00:00:00     16 MB(0%)  Iter   1   55.56%  Align node\r",
      "00:00:00     17 MB(0%)  Iter   1   66.67%  Align node\r",
      "00:00:00     17 MB(0%)  Iter   1   77.78%  Align node\r",
      "00:00:00     18 MB(0%)  Iter   1   88.89%  Align node\r",
      "00:00:01     19 MB(0%)  Iter   1  100.00%  Align node\r",
      "00:00:01     20 MB(0%)  Iter   1  100.00%  Align node\r\r\n00:00:01     20 MB(0%)  Iter   1   10.00%  Root alignment\r00:00:01     20 MB(0%)  Iter   1   20.00%  Root alignment\r00:00:01     20 MB(0%)  Iter   1   30.00%  Root alignment\r00:00:01     20 MB(0%)  Iter   1   40.00%  Root alignment\r00:00:01     20 MB(0%)  Iter   1   50.00%  Root alignment\r00:00:01     20 MB(0%)  Iter   1   60.00%  Root alignment\r00:00:01     20 MB(0%)  Iter   1   70.00%  Root alignment\r00:00:01     20 MB(0%)  Iter   1   80.00%  Root alignment\r00:00:01     20 MB(0%)  Iter   1   90.00%  Root alignment\r00:00:01     20 MB(0%)  Iter   1  100.00%  Root alignment\r00:00:01     20 MB(0%)  Iter   1  100.00%  Root alignment\r\r\n00:00:01     20 MB(0%)  Iter   2   12.50%  Refine tree   \r",
      "00:00:01     20 MB(0%)  Iter   2   25.00%  Refine tree\r",
      "00:00:01     20 MB(0%)  Iter   2   37.50%  Refine tree\r",
      "00:00:01     20 MB(0%)  Iter   2   50.00%  Refine tree\r",
      "00:00:01     20 MB(0%)  Iter   2   62.50%  Refine tree\r",
      "00:00:01     20 MB(0%)  Iter   2   75.00%  Refine tree\r",
      "00:00:02     21 MB(0%)  Iter   2   87.50%  Refine tree\r",
      "00:00:02     22 MB(0%)  Iter   2  100.00%  Refine tree\r",
      "00:00:02     22 MB(0%)  Iter   2  112.50%  Refine tree\r",
      "00:00:02     23 MB(0%)  Iter   2  100.00%  Refine tree\r\r\n00:00:02     23 MB(0%)  Iter   2   10.00%  Root alignment\r00:00:02     23 MB(0%)  Iter   2   20.00%  Root alignment\r00:00:02     23 MB(0%)  Iter   2   30.00%  Root alignment\r00:00:02     23 MB(0%)  Iter   2   40.00%  Root alignment\r00:00:02     23 MB(0%)  Iter   2   50.00%  Root alignment\r00:00:02     23 MB(0%)  Iter   2   60.00%  Root alignment\r00:00:02     23 MB(0%)  Iter   2   70.00%  Root alignment\r00:00:02     23 MB(0%)  Iter   2   80.00%  Root alignment\r00:00:02     23 MB(0%)  Iter   2   90.00%  Root alignment\r00:00:02     23 MB(0%)  Iter   2  100.00%  Root alignment\r00:00:02     23 MB(0%)  Iter   2  100.00%  Root alignment\r\r\n00:00:02     23 MB(0%)  Iter   2  100.00%  Root alignment\r\r\n",
      "00:00:02     23 MB(0%)  Iter   3   11.76%  Refine biparts\r",
      "00:00:02     23 MB(0%)  Iter   3   17.65%  Refine biparts\r",
      "00:00:02     23 MB(0%)  Iter   3   23.53%  Refine biparts\r",
      "00:00:03     23 MB(0%)  Iter   3   29.41%  Refine biparts\r",
      "00:00:03     23 MB(0%)  Iter   3   35.29%  Refine biparts\r",
      "00:00:03     23 MB(0%)  Iter   3   41.18%  Refine biparts\r",
      "00:00:03     23 MB(0%)  Iter   3   47.06%  Refine biparts\r",
      "00:00:03     23 MB(0%)  Iter   3   52.94%  Refine biparts\r",
      "00:00:03     23 MB(0%)  Iter   3   58.82%  Refine biparts\r",
      "00:00:03     23 MB(0%)  Iter   3   64.71%  Refine biparts\r",
      "00:00:04     23 MB(0%)  Iter   3   70.59%  Refine biparts\r",
      "00:00:04     23 MB(0%)  Iter   3   76.47%  Refine biparts\r",
      "00:00:04     23 MB(0%)  Iter   3   82.35%  Refine biparts\r",
      "00:00:04     23 MB(0%)  Iter   3   88.24%  Refine biparts\r",
      "00:00:04     23 MB(0%)  Iter   3   94.12%  Refine biparts\r",
      "00:00:04     23 MB(0%)  Iter   3  100.00%  Refine biparts\r",
      "00:00:04     23 MB(0%)  Iter   3  105.88%  Refine biparts\r00:00:04     23 MB(0%)  Iter   3  100.00%  Refine biparts\r\r\n",
      "00:00:04     23 MB(0%)  Iter   4   11.76%  Refine biparts\r",
      "00:00:04     23 MB(0%)  Iter   4   17.65%  Refine biparts\r",
      "00:00:05     23 MB(0%)  Iter   4   23.53%  Refine biparts\r",
      "00:00:05     23 MB(0%)  Iter   4   29.41%  Refine biparts\r",
      "00:00:05     23 MB(0%)  Iter   4   35.29%  Refine biparts\r",
      "00:00:05     23 MB(0%)  Iter   4   41.18%  Refine biparts\r",
      "00:00:05     23 MB(0%)  Iter   4   47.06%  Refine biparts\r",
      "00:00:05     23 MB(0%)  Iter   4   52.94%  Refine biparts\r",
      "00:00:06     23 MB(0%)  Iter   4   58.82%  Refine biparts\r",
      "00:00:06     23 MB(0%)  Iter   4   64.71%  Refine biparts\r",
      "00:00:06     23 MB(0%)  Iter   4   70.59%  Refine biparts\r",
      "00:00:06     23 MB(0%)  Iter   4   76.47%  Refine biparts\r",
      "00:00:06     23 MB(0%)  Iter   4   82.35%  Refine biparts\r",
      "00:00:06     23 MB(0%)  Iter   4   88.24%  Refine biparts\r",
      "00:00:06     23 MB(0%)  Iter   4   94.12%  Refine biparts\r",
      "00:00:06     23 MB(0%)  Iter   4  100.00%  Refine biparts\r",
      "00:00:07     23 MB(0%)  Iter   4  105.88%  Refine biparts\r00:00:07     23 MB(0%)  Iter   4  100.00%  Refine biparts\r\r\n",
      "00:00:07     23 MB(0%)  Iter   5   11.76%  Refine biparts\r",
      "00:00:07     23 MB(0%)  Iter   5   17.65%  Refine biparts\r00:00:07     23 MB(0%)  Iter   5  100.00%  Refine biparts\r\r\n00:00:07     23 MB(0%)  Iter   5  100.00%  Refine biparts\r\r\n\r\nreal\t0m7.132s\r\nuser\t0m6.198s\r\nsys\t0m0.146s\r\n"
     ],
     "output_type": "stream"
    }
   ],
   "source": [
    "!time muscle -in data_part2/SUP35_10seqs.fa -out data_part2/muscle_alignment.fa"
   ],
   "metadata": {
    "collapsed": false,
    "pycharm": {
     "name": "#%%\n",
     "is_executing": false
    }
   }
  },
  {
   "cell_type": "code",
   "execution_count": 3,
   "outputs": [
    {
     "name": "stdout",
     "text": [
      "nthread = 0\r\nnthreadpair = 0\r\nnthreadtb = 0\r\nppenalty_ex = 0\r\nstacksize: 8192 kb\r\ngenerating a scoring matrix for nucleotide (dist=200) ... done\r\nGap Penalty = -1.53, +0.00, +0.00\r\n\r\n\r\n\r\nMaking a distance matrix ..\r\n\r    1 / 10\r\ndone.\r\n\r\nConstructing a UPGMA tree (efffree=0) ... \r\n\r    0 / 10\r\ndone.\r\n\r\nProgressive alignment 1/2... \r\n\rSTEP     1 / 9  f\b\b\rSTEP     2 / 9  f\b\b",
      "\rSTEP     3 / 9  f\b\b\rSTEP     4 / 9  f\b\b\rSTEP     5 / 9  f\b\b",
      "\rSTEP     6 / 9  f\b\b\rSTEP     7 / 9  f\b\b",
      "\rSTEP     8 / 9  f\b\b",
      "\r\nReallocating..done. *alloclen = 5305\r\n\rSTEP     9 / 9  f\b\b",
      "\r\ndone.\r\n\r\nMaking a distance matrix from msa.. \r\n\r    0 / 10\r\ndone.\r\n\r\nConstructing a UPGMA tree (efffree=1) ... \r\n\r    0 / 10\r\ndone.\r\n\r\nProgressive alignment 2/2... \r\n\rSTEP     1 / 9  f\b\b\rSTEP     2 / 9  f\b\b\rSTEP     3 / 9  f\b\b",
      "\rSTEP     4 / 9  f\b\b\rSTEP     5 / 9  f\b\b",
      "\rSTEP     6 / 9  f\b\b\rSTEP     7 / 9  f\b\b",
      "\rSTEP     8 / 9  f\b\b",
      "\r\nReallocating..",
      "done. *alloclen = 5302\r\n\rSTEP     9 / 9  f\b\b",
      "\r\ndone.\r\n\r\ndisttbfast (nuc) Version 7.455\r\nalg=A, model=DNA200 (2), 1.53 (4.59), -0.00 (-0.00), noshift, amax=0.0\r\n0 thread(s)\r\n\r\n\r\nStrategy:\r\n FFT-NS-2 (Fast but rough)\r\n Progressive method (guide trees were built 2 times.)\r\n\r\nIf unsure which option to use, try 'mafft --auto input > output'.\r\nFor more information, see 'mafft --help', 'mafft --man' and the mafft page.\r\n\r\nThe default gap scoring scheme has been changed in version 7.110 (2013 Oct).\r\nIt tends to insert more gaps into gap-rich regions than previous versions.\r\nTo disable this change, add the --leavegappyregion option.\r\n\r\n\r\nreal\t0m1.336s\r\nuser\t0m0.809s\r\nsys\t0m0.360s\r\n"
     ],
     "output_type": "stream"
    }
   ],
   "source": [
    "!time mafft data_part2/SUP35_10seqs.fa > data_part2/mafft_alignment.fa"
   ],
   "metadata": {
    "collapsed": false,
    "pycharm": {
     "name": "#%%\n",
     "is_executing": false
    }
   }
  },
  {
   "cell_type": "code",
   "execution_count": 4,
   "outputs": [
    {
     "name": "stdout",
     "text": [
      "EXTRA :2\r\n\r\nKalign version 2.04, Copyright (C) 2004, 2005, 2006 Timo Lassmann\r\n\r\n        Kalign is free software. You can redistribute it and/or modify\r\n        it under the terms of the GNU General Public License as\r\n        published by the Free Software Foundation.\r\n\r\nreading from STDIN: found no sequences.\r\n\r\nreading from data_part2/SUP35_10seqs.fa: found 10 sequences\r\nreading from data_part2/kalign_alignment.fa: found no sequences.\r\n-> output file, in fasta format\r\n\r\nAligning 10 RNA/DNA sequences with these parameters:\r\n        217.00000000\tgap open penalty\r\n        39.40000153\tgap extension\r\n        292.60000610\tterminal gap penalty\r\n        283.00000000\tbonus\r\nAlignment will be written to file:'data_part2/kalign_alignment.fa'.\r\n\r\nDistance Calculation:\r\n\r       2 percent done\r       4 percent done\r       7 percent done\r       9 percent done\r      11 percent done\r      13 percent done\r      16 percent done\r      18 percent done\r      20 percent done\r      22 percent done\r      24 percent done\r      27 percent done\r      29 percent done",
      "\r      31 percent done\r      33 percent done\r      36 percent done\r      38 percent done\r      40 percent done\r      42 percent done\r      44 percent done\r      47 percent done\r      49 percent done\r      51 percent done\r      53 percent done\r      56 percent done\r      58 percent done\r      60 percent done\r      62 percent done\r      64 percent done\r      67 percent done\r      69 percent done\r      71 percent done\r      73 percent done\r      76 percent done\r      78 percent done\r      80 percent done\r      82 percent done\r      84 percent done\r      87 percent done\r      89 percent done\r      91 percent done\r      93 percent done\r      96 percent done\r      98 percent done\r     100 percent done\r\nAlignment:\r\n\r       0 percent doneSaving mem...\r\n",
      "\r      10 percent doneSaving mem...\r\n",
      "\r      20 percent doneSaving mem...\r\n",
      "\r      30 percent doneSaving mem...\r\n",
      "\r      40 percent doneSaving mem...\r\n",
      "\r      50 percent doneSaving mem...\r\n",
      "\r      60 percent doneSaving mem...\r\n",
      "\r      70 percent done",
      "Saving mem...\r\n",
      "\r      80 percent doneSaving mem...\r\n",
      "\r     100 percent done\r\n\r\nreal\t0m2.607s\r\nuser\t0m2.141s\r\nsys\t0m0.060s\r\n"
     ],
     "output_type": "stream"
    }
   ],
   "source": [
    "!time kalign data_part2/SUP35_10seqs.fa data_part2/kalign_alignment.fa"
   ],
   "metadata": {
    "collapsed": false,
    "pycharm": {
     "name": "#%%\n",
     "is_executing": false
    }
   }
  },
  {
   "cell_type": "code",
   "execution_count": 5,
   "outputs": [
    {
     "name": "stdout",
     "text": [
      "\r\n-----------------\r\n PRANK v.170427:\r\n-----------------\r\n\r\nInput for the analysis\r\n - aligning sequences in 'data_part2/SUP35_10seqs.fa'\r\n - using inferred alignment guide tree\r\n - option '+F' is not used; it can be enabled with '+F'\r\n",
      " - external tools available:\r\n    MAFFT for initial alignment\r\n\r\n",
      "Correcting (arbitrarily) for multifurcating nodes.\r\nCorrecting (arbitrarily) for multifurcating nodes.\r\n\r\nGenerating multiple alignment: iteration 1.\r\n",
      "\r\nAlignment score: 4527\r\nCorrecting (arbitrarily) for multifurcating nodes.\r\n\r\nGenerating multiple alignment: iteration 2.\r\n",
      "\r\nAlignment score: 4513\r\nCorrecting (arbitrarily) for multifurcating nodes.\r\n\r\nGenerating multiple alignment: iteration 3.\r\n",
      "\r\nAlignment score: 4513\r\nCorrecting (arbitrarily) for multifurcating nodes.\r\n\r\nGenerating multiple alignment: iteration 4.\r\n",
      "\r\nAlignment score: 4513\r\nCorrecting (arbitrarily) for multifurcating nodes.\r\n\r\nGenerating multiple alignment: iteration 5.\r\n",
      "\r\nAlignment score: 4513\r\n\r\n\r\nWriting\r\n - alignment to 'data_part2/prank_alignment.fa.best.fas'\r\n\r\nAnalysis done. Total time 162s\r\n\r\n\r\nreal\t2m42.251s\r\nuser\t2m25.745s\r\nsys\t0m2.145s\r\n"
     ],
     "output_type": "stream"
    }
   ],
   "source": [
    "!time prank -o=data_part2/prank_alignment.fa -d=data_part2/SUP35_10seqs.fa"
   ],
   "metadata": {
    "collapsed": false,
    "pycharm": {
     "name": "#%%\n",
     "is_executing": false
    }
   }
  },
  {
   "cell_type": "code",
   "execution_count": 6,
   "outputs": [],
   "source": [
    "from Bio import AlignIO, SeqIO\n",
    "\n",
    "import numpy as np\n",
    "import pandas as pd\n",
    "\n",
    "import scipy.stats"
   ],
   "metadata": {
    "collapsed": false,
    "pycharm": {
     "name": "#%%\n",
     "is_executing": false
    }
   }
  },
  {
   "cell_type": "code",
   "execution_count": 7,
   "outputs": [
    {
     "data": {
      "text/plain": "   Method  Alignment Length  Alignment Entropy  Elapsed Time\n0  muscle              2275         688.028202         7.132\n1   mafft              2286         707.579148         1.336\n2  kalign              2155         653.044547         2.607\n3   prank              2366         719.030552       162.251",
      "text/html": "<div>\n<style scoped>\n    .dataframe tbody tr th:only-of-type {\n        vertical-align: middle;\n    }\n\n    .dataframe tbody tr th {\n        vertical-align: top;\n    }\n\n    .dataframe thead th {\n        text-align: right;\n    }\n</style>\n<table border=\"1\" class=\"dataframe\">\n  <thead>\n    <tr style=\"text-align: right;\">\n      <th></th>\n      <th>Method</th>\n      <th>Alignment Length</th>\n      <th>Alignment Entropy</th>\n      <th>Elapsed Time</th>\n    </tr>\n  </thead>\n  <tbody>\n    <tr>\n      <td>0</td>\n      <td>muscle</td>\n      <td>2275</td>\n      <td>688.028202</td>\n      <td>7.132</td>\n    </tr>\n    <tr>\n      <td>1</td>\n      <td>mafft</td>\n      <td>2286</td>\n      <td>707.579148</td>\n      <td>1.336</td>\n    </tr>\n    <tr>\n      <td>2</td>\n      <td>kalign</td>\n      <td>2155</td>\n      <td>653.044547</td>\n      <td>2.607</td>\n    </tr>\n    <tr>\n      <td>3</td>\n      <td>prank</td>\n      <td>2366</td>\n      <td>719.030552</td>\n      <td>162.251</td>\n    </tr>\n  </tbody>\n</table>\n</div>"
     },
     "metadata": {},
     "output_type": "execute_result",
     "execution_count": 7
    }
   ],
   "source": [
    "def get_alignment_length_and_entropy(file):\n",
    "    for multiple_alignment in AlignIO.parse(file, 'fasta'):\n",
    "        entropy = 0\n",
    "        sequences = [a.seq for a in multiple_alignment]\n",
    "        for aligned_letter in zip(*sequences):\n",
    "            ln = len(aligned_letter)\n",
    "            fs = [f / ln for f in np.unique(aligned_letter, return_counts=True)[1]]\n",
    "            entropy += scipy.stats.entropy(fs)\n",
    "        return multiple_alignment.get_alignment_length(), entropy\n",
    "    \n",
    "methods = ['muscle', 'mafft', 'kalign', 'prank']\n",
    "time = {\n",
    "    'muscle': 7.132,\n",
    "    'mafft': 1.336,\n",
    "    'kalign': 2.607,\n",
    "    'prank': 162.251\n",
    "}\n",
    "\n",
    "\n",
    "res = []\n",
    "for method in methods:\n",
    "    length, entropy = get_alignment_length_and_entropy(f'data_part2/{method}_alignment.fa')\n",
    "    res.append([method, length, entropy, time[method]])\n",
    "    \n",
    "pd.DataFrame(res, columns=['Method', 'Alignment Length', 'Alignment Entropy', 'Elapsed Time'])"
   ],
   "metadata": {
    "collapsed": false,
    "pycharm": {
     "name": "#%%\n",
     "is_executing": false
    }
   }
  },
  {
   "cell_type": "markdown",
   "source": [
    "### Results\n",
    "\n",
    "Prank is seemed to be the worst algorithm, it took a lot of time to compute and got the worst results.\n",
    "The best score and good performance were shown by kalign.\n",
    "Mafft was the fastest one.\n"
   ],
   "metadata": {
    "collapsed": false,
    "pycharm": {
     "name": "#%% md\n"
    }
   }
  },
  {
   "cell_type": "markdown",
   "source": [
    "### 3. What is wrong with the alignment of SUP35_10seqs_strange_aln.fa and how to fix it?\n",
    "\n",
    "The gap size is not always multiple of 3. Also, it contains too many gaps and too much length. "
   ],
   "metadata": {
    "collapsed": false,
    "pycharm": {
     "name": "#%% md\n"
    }
   }
  },
  {
   "cell_type": "markdown",
   "source": [
    "### 4.Obtain amino acid sequences for these data. Repeat p.2 on amino acid sequences."
   ],
   "metadata": {
    "collapsed": false,
    "pycharm": {
     "name": "#%% md\n"
    }
   }
  },
  {
   "cell_type": "code",
   "execution_count": 8,
   "outputs": [
    {
     "data": {
      "text/plain": "10"
     },
     "metadata": {},
     "output_type": "execute_result",
     "execution_count": 8
    }
   ],
   "source": [
    "translated = [cnt.translate() for cnt in SeqIO.parse('data_part2/SUP35_10seqs.fa', 'fasta')]\n",
    "SeqIO.write(translated, 'data_part2/protein_SUP35_10seqs.fa', 'fasta')"
   ],
   "metadata": {
    "collapsed": false,
    "pycharm": {
     "name": "#%%\n",
     "is_executing": false
    }
   }
  },
  {
   "cell_type": "code",
   "execution_count": null,
   "outputs": [],
   "source": [],
   "metadata": {
    "collapsed": false,
    "pycharm": {
     "name": "#%%\n"
    }
   }
  },
  {
   "cell_type": "code",
   "execution_count": 9,
   "outputs": [
    {
     "name": "stdout",
     "text": [
      "\r\nMUSCLE v3.8.1551 by Robert C. Edgar\r\n\r\nhttp://www.drive5.com/muscle\r\nThis software is donated to the public domain.\r\nPlease cite: Edgar, R.C. Nucleic Acids Res 32(5), 1792-97.\r\n\r\n\r\n*** WARNING *** Invalid character '*' in FASTA sequence data, ignored\r\n\r\n*** WARNING *** Invalid character '*' in FASTA sequence data, ignored\r\n\r\n*** WARNING *** Invalid character '*' in FASTA sequence data, ignored\r\n\r\n*** WARNING *** Invalid character '*' in FASTA sequence data, ignored\r\n\r\n*** WARNING *** Invalid character '*' in FASTA sequence data, ignored\r\n\r\n*** WARNING *** Invalid character '*' in FASTA sequence data, ignored\r\n\r\n*** WARNING *** Invalid character '*' in FASTA sequence data, ignored\r\n\r\n*** WARNING *** Invalid character '*' in FASTA sequence data, ignored\r\n\r\n*** WARNING *** Invalid character '*' in FASTA sequence data, ignored\r\n\r\n*** WARNING *** Invalid character '*' in FASTA sequence data, ignored\r\nprotein_SUP35_10seqs 10 seqs, lengths min 666, max 700, avg 682\r\n00:00:00      1 MB(0%)  Iter   1    1.82%  K-mer dist pass 1\r00:00:00      1 MB(0%)  Iter   1  100.00%  K-mer dist pass 1\r\r\n00:00:00      1 MB(0%)  Iter   1    1.82%  K-mer dist pass 2\r00:00:00      1 MB(0%)  Iter   1  100.00%  K-mer dist pass 2\r\r\n",
      "00:00:00      3 MB(0%)  Iter   1   11.11%  Align node       \r00:00:00      5 MB(0%)  Iter   1   22.22%  Align node\r00:00:00      5 MB(0%)  Iter   1   33.33%  Align node\r",
      "00:00:00      5 MB(0%)  Iter   1   44.44%  Align node\r00:00:00      5 MB(0%)  Iter   1   55.56%  Align node\r00:00:00      6 MB(0%)  Iter   1   66.67%  Align node\r",
      "00:00:00      6 MB(0%)  Iter   1   77.78%  Align node\r00:00:00      6 MB(0%)  Iter   1   88.89%  Align node\r",
      "00:00:00      6 MB(0%)  Iter   1  100.00%  Align node\r00:00:00      7 MB(0%)  Iter   1  100.00%  Align node\r\r\n00:00:00      7 MB(0%)  Iter   1   10.00%  Root alignment\r00:00:00      7 MB(0%)  Iter   1   20.00%  Root alignment\r00:00:00      7 MB(0%)  Iter   1   30.00%  Root alignment\r00:00:00      7 MB(0%)  Iter   1   40.00%  Root alignment\r00:00:00      7 MB(0%)  Iter   1   50.00%  Root alignment\r00:00:00      7 MB(0%)  Iter   1   60.00%  Root alignment\r00:00:00      7 MB(0%)  Iter   1   70.00%  Root alignment\r00:00:00      7 MB(0%)  Iter   1   80.00%  Root alignment\r00:00:00      7 MB(0%)  Iter   1   90.00%  Root alignment\r00:00:00      7 MB(0%)  Iter   1  100.00%  Root alignment\r00:00:00      7 MB(0%)  Iter   1  100.00%  Root alignment\r\r\n00:00:00      7 MB(0%)  Iter   2   12.50%  Refine tree   \r",
      "00:00:00      7 MB(0%)  Iter   2   25.00%  Refine tree\r00:00:00      7 MB(0%)  Iter   2   37.50%  Refine tree\r00:00:00      7 MB(0%)  Iter   2   50.00%  Refine tree\r",
      "00:00:00      7 MB(0%)  Iter   2   62.50%  Refine tree\r00:00:00      7 MB(0%)  Iter   2  100.00%  Refine tree\r\r\n00:00:00      7 MB(0%)  Iter   2   10.00%  Root alignment\r00:00:00      7 MB(0%)  Iter   2   20.00%  Root alignment\r00:00:00      7 MB(0%)  Iter   2   30.00%  Root alignment\r00:00:00      7 MB(0%)  Iter   2   40.00%  Root alignment\r00:00:00      7 MB(0%)  Iter   2   50.00%  Root alignment\r00:00:00      7 MB(0%)  Iter   2   60.00%  Root alignment\r00:00:00      7 MB(0%)  Iter   2   70.00%  Root alignment\r00:00:00      7 MB(0%)  Iter   2   80.00%  Root alignment\r00:00:00      7 MB(0%)  Iter   2   90.00%  Root alignment\r00:00:00      7 MB(0%)  Iter   2  100.00%  Root alignment\r00:00:00      7 MB(0%)  Iter   2  100.00%  Root alignment\r\r\n00:00:00      7 MB(0%)  Iter   2  100.00%  Root alignment\r\r\n00:00:00      7 MB(0%)  Iter   3   11.76%  Refine biparts\r00:00:00      7 MB(0%)  Iter   3   17.65%  Refine biparts\r00:00:00      7 MB(0%)  Iter   3   23.53%  Refine biparts\r00:00:00      7 MB(0%)  Iter   3   29.41%  Refine biparts\r00:00:00      7 MB(0%)  Iter   3   35.29%  Refine biparts\r00:00:00      7 MB(0%)  Iter   3   41.18%  Refine biparts\r00:00:00      7 MB(0%)  Iter   3   47.06%  Refine biparts\r00:00:00      7 MB(0%)  Iter   3   52.94%  Refine biparts\r00:00:00      7 MB(0%)  Iter   3   58.82%  Refine biparts\r00:00:00      7 MB(0%)  Iter   3   64.71%  Refine biparts\r00:00:00      7 MB(0%)  Iter   3   70.59%  Refine biparts\r00:00:00      7 MB(0%)  Iter   3   76.47%  Refine biparts\r00:00:00      7 MB(0%)  Iter   3   82.35%  Refine biparts\r00:00:00      7 MB(0%)  Iter   3   88.24%  Refine biparts\r00:00:00      7 MB(0%)  Iter   3   94.12%  Refine biparts\r00:00:00      7 MB(0%)  Iter   3  100.00%  Refine biparts\r00:00:00      7 MB(0%)  Iter   3  105.88%  Refine biparts\r00:00:00      7 MB(0%)  Iter   3  100.00%  Refine biparts\r\r\n00:00:00      7 MB(0%)  Iter   4   11.76%  Refine biparts\r00:00:00      7 MB(0%)  Iter   4   17.65%  Refine biparts\r00:00:00      7 MB(0%)  Iter   4   23.53%  Refine biparts\r00:00:00      7 MB(0%)  Iter   4   29.41%  Refine biparts\r00:00:00      7 MB(0%)  Iter   4   35.29%  Refine biparts\r00:00:00      7 MB(0%)  Iter   4   41.18%  Refine biparts\r00:00:00      7 MB(0%)  Iter   4   47.06%  Refine biparts\r00:00:00      7 MB(0%)  Iter   4   52.94%  Refine biparts\r00:00:00      7 MB(0%)  Iter   4   58.82%  Refine biparts\r00:00:00      7 MB(0%)  Iter   4   64.71%  Refine biparts\r",
      "00:00:00      7 MB(0%)  Iter   4   70.59%  Refine biparts\r00:00:00      7 MB(0%)  Iter   4   76.47%  Refine biparts\r00:00:00      7 MB(0%)  Iter   4   82.35%  Refine biparts\r00:00:00      7 MB(0%)  Iter   4   88.24%  Refine biparts\r00:00:00      7 MB(0%)  Iter   4   94.12%  Refine biparts\r00:00:00      7 MB(0%)  Iter   4  100.00%  Refine biparts\r00:00:00      7 MB(0%)  Iter   4  105.88%  Refine biparts\r00:00:00      7 MB(0%)  Iter   4  100.00%  Refine biparts\r\r\n00:00:00      7 MB(0%)  Iter   5   11.76%  Refine biparts\r00:00:00      7 MB(0%)  Iter   5  100.00%  Refine biparts\r\r\n00:00:00      7 MB(0%)  Iter   5  100.00%  Refine biparts\r\r\n00:00:00      7 MB(0%)  Iter   6   11.76%  Refine biparts\r00:00:00      7 MB(0%)  Iter   6   17.65%  Refine biparts\r00:00:00      7 MB(0%)  Iter   6   23.53%  Refine biparts\r00:00:00      7 MB(0%)  Iter   6   29.41%  Refine biparts\r00:00:00      7 MB(0%)  Iter   6   35.29%  Refine biparts\r00:00:00      7 MB(0%)  Iter   6   41.18%  Refine biparts\r00:00:00      7 MB(0%)  Iter   6   47.06%  Refine biparts\r00:00:00      7 MB(0%)  Iter   6   52.94%  Refine biparts\r00:00:00      7 MB(0%)  Iter   6   58.82%  Refine biparts\r00:00:00      7 MB(0%)  Iter   6   64.71%  Refine biparts\r00:00:00      7 MB(0%)  Iter   6   70.59%  Refine biparts\r00:00:00      7 MB(0%)  Iter   6   76.47%  Refine biparts\r00:00:00      7 MB(0%)  Iter   6   82.35%  Refine biparts\r00:00:00      7 MB(0%)  Iter   6   88.24%  Refine biparts\r00:00:00      7 MB(0%)  Iter   6   94.12%  Refine biparts\r00:00:00      7 MB(0%)  Iter   6  100.00%  Refine biparts\r00:00:00      7 MB(0%)  Iter   6  105.88%  Refine biparts\r00:00:00      7 MB(0%)  Iter   6  100.00%  Refine biparts\r\r\n00:00:00      7 MB(0%)  Iter   7   11.76%  Refine biparts\r00:00:00      7 MB(0%)  Iter   7   17.65%  Refine biparts\r00:00:00      7 MB(0%)  Iter   7   23.53%  Refine biparts\r00:00:00      7 MB(0%)  Iter   7   29.41%  Refine biparts\r00:00:00      7 MB(0%)  Iter   7   35.29%  Refine biparts\r00:00:00      7 MB(0%)  Iter   7   41.18%  Refine biparts\r00:00:00      7 MB(0%)  Iter   7   47.06%  Refine biparts\r00:00:00      7 MB(0%)  Iter   7   52.94%  Refine biparts\r00:00:00      7 MB(0%)  Iter   7   58.82%  Refine biparts\r00:00:00      7 MB(0%)  Iter   7   64.71%  Refine biparts\r00:00:00      7 MB(0%)  Iter   7   70.59%  Refine biparts\r00:00:00      7 MB(0%)  Iter   7   76.47%  Refine biparts\r00:00:00      7 MB(0%)  Iter   7   82.35%  Refine biparts\r00:00:00      7 MB(0%)  Iter   7   88.24%  Refine biparts\r00:00:00      7 MB(0%)  Iter   7   94.12%  Refine biparts\r00:00:00      7 MB(0%)  Iter   7  100.00%  Refine biparts\r00:00:00      7 MB(0%)  Iter   7  105.88%  Refine biparts\r00:00:00      7 MB(0%)  Iter   7  100.00%  Refine biparts\r\r\n00:00:00      7 MB(0%)  Iter   8   11.76%  Refine biparts\r00:00:00      7 MB(0%)  Iter   8   17.65%  Refine biparts\r00:00:00      7 MB(0%)  Iter   8  100.00%  Refine biparts\r\r\n00:00:00      7 MB(0%)  Iter   8  100.00%  Refine biparts\r\r\n00:00:00      7 MB(0%)  Iter   9   11.76%  Refine biparts\r00:00:00      7 MB(0%)  Iter   9   17.65%  Refine biparts\r00:00:00      7 MB(0%)  Iter   9   23.53%  Refine biparts\r00:00:00      7 MB(0%)  Iter   9   29.41%  Refine biparts\r00:00:00      7 MB(0%)  Iter   9   35.29%  Refine biparts\r00:00:00      7 MB(0%)  Iter   9   41.18%  Refine biparts\r00:00:00      7 MB(0%)  Iter   9   47.06%  Refine biparts\r00:00:00      7 MB(0%)  Iter   9   52.94%  Refine biparts\r00:00:00      7 MB(0%)  Iter   9   58.82%  Refine biparts\r00:00:00      7 MB(0%)  Iter   9   64.71%  Refine biparts\r00:00:00      7 MB(0%)  Iter   9   70.59%  Refine biparts\r00:00:00      7 MB(0%)  Iter   9   76.47%  Refine biparts\r00:00:00      7 MB(0%)  Iter   9   82.35%  Refine biparts\r00:00:00      7 MB(0%)  Iter   9   88.24%  Refine biparts\r00:00:00      7 MB(0%)  Iter   9   94.12%  Refine biparts\r00:00:00      7 MB(0%)  Iter   9  100.00%  Refine biparts\r00:00:00      7 MB(0%)  Iter   9  105.88%  Refine biparts\r00:00:00      7 MB(0%)  Iter   9  100.00%  Refine biparts\r\r\n00:00:00      7 MB(0%)  Iter  10   11.76%  Refine biparts\r00:00:00      7 MB(0%)  Iter  10   17.65%  Refine biparts\r00:00:00      7 MB(0%)  Iter  10   23.53%  Refine biparts\r00:00:00      7 MB(0%)  Iter  10   29.41%  Refine biparts\r00:00:00      7 MB(0%)  Iter  10   35.29%  Refine biparts\r00:00:00      7 MB(0%)  Iter  10   41.18%  Refine biparts\r00:00:00      7 MB(0%)  Iter  10   47.06%  Refine biparts\r00:00:00      7 MB(0%)  Iter  10   52.94%  Refine biparts\r00:00:00      7 MB(0%)  Iter  10   58.82%  Refine biparts\r00:00:00      7 MB(0%)  Iter  10   64.71%  Refine biparts\r00:00:00      7 MB(0%)  Iter  10   70.59%  Refine biparts\r00:00:00      7 MB(0%)  Iter  10   76.47%  Refine biparts\r00:00:00      7 MB(0%)  Iter  10   82.35%  Refine biparts\r00:00:00      7 MB(0%)  Iter  10   88.24%  Refine biparts\r00:00:00      7 MB(0%)  Iter  10   94.12%  Refine biparts\r00:00:00      7 MB(0%)  Iter  10  100.00%  Refine biparts\r00:00:00      7 MB(0%)  Iter  10  105.88%  Refine biparts\r00:00:00      7 MB(0%)  Iter  10  100.00%  Refine biparts\r\r\n00:00:00      7 MB(0%)  Iter  11   11.76%  Refine biparts\r00:00:00      7 MB(0%)  Iter  11   17.65%  Refine biparts\r00:00:00      7 MB(0%)  Iter  11   23.53%  Refine biparts\r00:00:00      7 MB(0%)  Iter  11   29.41%  Refine biparts\r00:00:00      7 MB(0%)  Iter  11   35.29%  Refine biparts\r00:00:00      7 MB(0%)  Iter  11   41.18%  Refine biparts\r00:00:00      7 MB(0%)  Iter  11   47.06%  Refine biparts\r00:00:00      7 MB(0%)  Iter  11   52.94%  Refine biparts\r",
      "00:00:00      7 MB(0%)  Iter  11   58.82%  Refine biparts\r00:00:00      7 MB(0%)  Iter  11   64.71%  Refine biparts\r00:00:00      7 MB(0%)  Iter  11   70.59%  Refine biparts\r00:00:00      7 MB(0%)  Iter  11   76.47%  Refine biparts\r00:00:00      7 MB(0%)  Iter  11   82.35%  Refine biparts\r00:00:00      7 MB(0%)  Iter  11   88.24%  Refine biparts\r00:00:00      7 MB(0%)  Iter  11   94.12%  Refine biparts\r00:00:00      7 MB(0%)  Iter  11  100.00%  Refine biparts\r00:00:00      7 MB(0%)  Iter  11  105.88%  Refine biparts\r00:00:00      7 MB(0%)  Iter  11  100.00%  Refine biparts\r\r\n00:00:00      7 MB(0%)  Iter  12   11.76%  Refine biparts\r00:00:00      7 MB(0%)  Iter  12   17.65%  Refine biparts\r00:00:00      7 MB(0%)  Iter  12   23.53%  Refine biparts\r00:00:00      7 MB(0%)  Iter  12   29.41%  Refine biparts\r00:00:00      7 MB(0%)  Iter  12   35.29%  Refine biparts\r00:00:00      7 MB(0%)  Iter  12   41.18%  Refine biparts\r00:00:00      7 MB(0%)  Iter  12   47.06%  Refine biparts\r00:00:00      7 MB(0%)  Iter  12   52.94%  Refine biparts\r00:00:00      7 MB(0%)  Iter  12   58.82%  Refine biparts\r00:00:00      7 MB(0%)  Iter  12   64.71%  Refine biparts\r00:00:00      7 MB(0%)  Iter  12   70.59%  Refine biparts\r00:00:00      7 MB(0%)  Iter  12   76.47%  Refine biparts\r00:00:00      7 MB(0%)  Iter  12   82.35%  Refine biparts\r00:00:00      7 MB(0%)  Iter  12   88.24%  Refine biparts\r00:00:00      7 MB(0%)  Iter  12   94.12%  Refine biparts\r00:00:00      7 MB(0%)  Iter  12  100.00%  Refine biparts\r00:00:00      7 MB(0%)  Iter  12  105.88%  Refine biparts\r00:00:00      7 MB(0%)  Iter  12  100.00%  Refine biparts\r\r\n00:00:00      7 MB(0%)  Iter  13   11.76%  Refine biparts\r00:00:00      7 MB(0%)  Iter  13  100.00%  Refine biparts\r\r\n00:00:00      7 MB(0%)  Iter  13  100.00%  Refine biparts\r\r\n00:00:00      7 MB(0%)  Iter  14   11.76%  Refine biparts\r00:00:00      7 MB(0%)  Iter  14   17.65%  Refine biparts\r00:00:00      7 MB(0%)  Iter  14   23.53%  Refine biparts\r00:00:00      7 MB(0%)  Iter  14   29.41%  Refine biparts\r00:00:00      7 MB(0%)  Iter  14   35.29%  Refine biparts\r00:00:00      7 MB(0%)  Iter  14   41.18%  Refine biparts\r00:00:00      7 MB(0%)  Iter  14   47.06%  Refine biparts\r00:00:00      7 MB(0%)  Iter  14   52.94%  Refine biparts\r00:00:00      7 MB(0%)  Iter  14   58.82%  Refine biparts\r00:00:00      7 MB(0%)  Iter  14   64.71%  Refine biparts\r00:00:00      7 MB(0%)  Iter  14   70.59%  Refine biparts\r00:00:00      7 MB(0%)  Iter  14   76.47%  Refine biparts\r00:00:00      7 MB(0%)  Iter  14   82.35%  Refine biparts\r00:00:00      7 MB(0%)  Iter  14   88.24%  Refine biparts\r00:00:00      7 MB(0%)  Iter  14   94.12%  Refine biparts\r00:00:00      7 MB(0%)  Iter  14  100.00%  Refine biparts\r00:00:00      7 MB(0%)  Iter  14  105.88%  Refine biparts\r00:00:00      7 MB(0%)  Iter  14  100.00%  Refine biparts\r\r\n00:00:00      7 MB(0%)  Iter  15   11.76%  Refine biparts\r00:00:00      7 MB(0%)  Iter  15   17.65%  Refine biparts\r00:00:00      7 MB(0%)  Iter  15   23.53%  Refine biparts\r00:00:00      7 MB(0%)  Iter  15   29.41%  Refine biparts\r00:00:00      7 MB(0%)  Iter  15   35.29%  Refine biparts\r00:00:00      7 MB(0%)  Iter  15   41.18%  Refine biparts\r00:00:00      7 MB(0%)  Iter  15   47.06%  Refine biparts\r00:00:00      7 MB(0%)  Iter  15   52.94%  Refine biparts\r00:00:00      7 MB(0%)  Iter  15   58.82%  Refine biparts\r00:00:00      7 MB(0%)  Iter  15   64.71%  Refine biparts\r00:00:00      7 MB(0%)  Iter  15   70.59%  Refine biparts\r00:00:00      7 MB(0%)  Iter  15   76.47%  Refine biparts\r00:00:00      7 MB(0%)  Iter  15   82.35%  Refine biparts\r00:00:00      7 MB(0%)  Iter  15   88.24%  Refine biparts\r00:00:00      7 MB(0%)  Iter  15   94.12%  Refine biparts\r00:00:00      7 MB(0%)  Iter  15  100.00%  Refine biparts\r00:00:00      7 MB(0%)  Iter  15  105.88%  Refine biparts\r00:00:00      7 MB(0%)  Iter  15  100.00%  Refine biparts\r\r\n00:00:00      7 MB(0%)  Iter  16   11.76%  Refine biparts\r00:00:00      7 MB(0%)  Iter  16   17.65%  Refine biparts\r00:00:00      7 MB(0%)  Iter  16   23.53%  Refine biparts\r00:00:00      7 MB(0%)  Iter  16   29.41%  Refine biparts\r00:00:00      7 MB(0%)  Iter  16   35.29%  Refine biparts\r00:00:00      7 MB(0%)  Iter  16   41.18%  Refine biparts\r00:00:00      7 MB(0%)  Iter  16   47.06%  Refine biparts\r00:00:00      7 MB(0%)  Iter  16   52.94%  Refine biparts\r00:00:00      7 MB(0%)  Iter  16   58.82%  Refine biparts\r00:00:00      7 MB(0%)  Iter  16   64.71%  Refine biparts\r00:00:00      7 MB(0%)  Iter  16   70.59%  Refine biparts\r00:00:00      7 MB(0%)  Iter  16   76.47%  Refine biparts\r00:00:00      7 MB(0%)  Iter  16   82.35%  Refine biparts\r00:00:00      7 MB(0%)  Iter  16   88.24%  Refine biparts\r00:00:00      7 MB(0%)  Iter  16   94.12%  Refine biparts\r00:00:00      7 MB(0%)  Iter  16  100.00%  Refine biparts\r00:00:00      7 MB(0%)  Iter  16  105.88%  Refine biparts\r00:00:00      7 MB(0%)  Iter  16  100.00%  Refine biparts\r\r\n00:00:00      7 MB(0%)  Iter  17   11.76%  Refine biparts\r00:00:00      7 MB(0%)  Iter  17   17.65%  Refine biparts\r00:00:00      7 MB(0%)  Iter  17   23.53%  Refine biparts\r00:00:00      7 MB(0%)  Iter  17   29.41%  Refine biparts\r00:00:00      7 MB(0%)  Iter  17   35.29%  Refine biparts\r00:00:00      7 MB(0%)  Iter  17   41.18%  Refine biparts\r00:00:00      7 MB(0%)  Iter  17   47.06%  Refine biparts\r00:00:00      7 MB(0%)  Iter  17   52.94%  Refine biparts\r00:00:00      7 MB(0%)  Iter  17   58.82%  Refine biparts\r00:00:00      7 MB(0%)  Iter  17   64.71%  Refine biparts\r00:00:00      7 MB(0%)  Iter  17   70.59%  Refine biparts\r00:00:00      7 MB(0%)  Iter  17   76.47%  Refine biparts\r00:00:00      7 MB(0%)  Iter  17   82.35%  Refine biparts\r00:00:00      7 MB(0%)  Iter  17   88.24%  Refine biparts\r00:00:00      7 MB(0%)  Iter  17   94.12%  Refine biparts\r00:00:00      7 MB(0%)  Iter  17  100.00%  Refine biparts\r00:00:00      7 MB(0%)  Iter  17  105.88%  Refine biparts\r00:00:00      7 MB(0%)  Iter  17  100.00%  Refine biparts\r\r\n00:00:00      7 MB(0%)  Iter  18   11.76%  Refine biparts\r00:00:00      7 MB(0%)  Iter  18   17.65%  Refine biparts\r00:00:00      7 MB(0%)  Iter  18   23.53%  Refine biparts\r00:00:00      7 MB(0%)  Iter  18   29.41%  Refine biparts\r00:00:00      7 MB(0%)  Iter  18   35.29%  Refine biparts\r00:00:00      7 MB(0%)  Iter  18   41.18%  Refine biparts\r00:00:00      7 MB(0%)  Iter  18   47.06%  Refine biparts\r00:00:00      7 MB(0%)  Iter  18   52.94%  Refine biparts\r00:00:00      7 MB(0%)  Iter  18   58.82%  Refine biparts\r00:00:00      7 MB(0%)  Iter  18   64.71%  Refine biparts\r00:00:00      7 MB(0%)  Iter  18   70.59%  Refine biparts\r00:00:00      7 MB(0%)  Iter  18   76.47%  Refine biparts\r00:00:00      7 MB(0%)  Iter  18   82.35%  Refine biparts\r00:00:00      7 MB(0%)  Iter  18   88.24%  Refine biparts\r00:00:00      7 MB(0%)  Iter  18   94.12%  Refine biparts\r00:00:00      7 MB(0%)  Iter  18  100.00%  Refine biparts\r00:00:00      7 MB(0%)  Iter  18  105.88%  Refine biparts\r00:00:00      7 MB(0%)  Iter  18  100.00%  Refine biparts\r\r\n00:00:00      7 MB(0%)  Iter  19   11.76%  Refine biparts\r00:00:00      7 MB(0%)  Iter  19   17.65%  Refine biparts\r00:00:00      7 MB(0%)  Iter  19   23.53%  Refine biparts\r00:00:00      7 MB(0%)  Iter  19   29.41%  Refine biparts\r00:00:00      7 MB(0%)  Iter  19   35.29%  Refine biparts\r00:00:00      7 MB(0%)  Iter  19   41.18%  Refine biparts\r00:00:00      7 MB(0%)  Iter  19   47.06%  Refine biparts\r00:00:00      7 MB(0%)  Iter  19   52.94%  Refine biparts\r00:00:00      7 MB(0%)  Iter  19   58.82%  Refine biparts\r00:00:00      7 MB(0%)  Iter  19   64.71%  Refine biparts\r00:00:00      7 MB(0%)  Iter  19   70.59%  Refine biparts\r00:00:00      7 MB(0%)  Iter  19   76.47%  Refine biparts\r00:00:00      7 MB(0%)  Iter  19   82.35%  Refine biparts\r00:00:00      7 MB(0%)  Iter  19   88.24%  Refine biparts\r00:00:00      7 MB(0%)  Iter  19   94.12%  Refine biparts\r00:00:00      7 MB(0%)  Iter  19  100.00%  Refine biparts\r00:00:00      7 MB(0%)  Iter  19  105.88%  Refine biparts\r00:00:00      7 MB(0%)  Iter  19  100.00%  Refine biparts\r\r\n00:00:00      7 MB(0%)  Iter  20   11.76%  Refine biparts\r00:00:00      7 MB(0%)  Iter  20   17.65%  Refine biparts\r00:00:00      7 MB(0%)  Iter  20   23.53%  Refine biparts\r00:00:00      7 MB(0%)  Iter  20   29.41%  Refine biparts\r00:00:00      7 MB(0%)  Iter  20   35.29%  Refine biparts\r00:00:00      7 MB(0%)  Iter  20   41.18%  Refine biparts\r00:00:00      7 MB(0%)  Iter  20   47.06%  Refine biparts\r00:00:00      7 MB(0%)  Iter  20   52.94%  Refine biparts\r00:00:00      7 MB(0%)  Iter  20   58.82%  Refine biparts\r00:00:00      7 MB(0%)  Iter  20   64.71%  Refine biparts\r00:00:00      7 MB(0%)  Iter  20   70.59%  Refine biparts\r00:00:00      7 MB(0%)  Iter  20   76.47%  Refine biparts\r00:00:00      7 MB(0%)  Iter  20   82.35%  Refine biparts\r00:00:00      7 MB(0%)  Iter  20   88.24%  Refine biparts\r00:00:00      7 MB(0%)  Iter  20   94.12%  Refine biparts\r00:00:00      7 MB(0%)  Iter  20  100.00%  Refine biparts\r00:00:00      7 MB(0%)  Iter  20  105.88%  Refine biparts\r00:00:00      7 MB(0%)  Iter  20  100.00%  Refine biparts\r\r\n00:00:00      7 MB(0%)  Iter  21   11.76%  Refine biparts\r00:00:00      7 MB(0%)  Iter  21   17.65%  Refine biparts\r00:00:00      7 MB(0%)  Iter  21   23.53%  Refine biparts\r00:00:00      7 MB(0%)  Iter  21   29.41%  Refine biparts\r00:00:00      7 MB(0%)  Iter  21   35.29%  Refine biparts\r00:00:00      7 MB(0%)  Iter  21   41.18%  Refine biparts\r00:00:00      7 MB(0%)  Iter  21   47.06%  Refine biparts\r00:00:00      7 MB(0%)  Iter  21   52.94%  Refine biparts\r00:00:00      7 MB(0%)  Iter  21   58.82%  Refine biparts\r00:00:00      7 MB(0%)  Iter  21   64.71%  Refine biparts\r00:00:00      7 MB(0%)  Iter  21   70.59%  Refine biparts\r00:00:00      7 MB(0%)  Iter  21   76.47%  Refine biparts\r00:00:00      7 MB(0%)  Iter  21   82.35%  Refine biparts\r00:00:00      7 MB(0%)  Iter  21   88.24%  Refine biparts\r00:00:00      7 MB(0%)  Iter  21   94.12%  Refine biparts\r00:00:00      7 MB(0%)  Iter  21  100.00%  Refine biparts\r00:00:00      7 MB(0%)  Iter  21  105.88%  Refine biparts\r00:00:00      7 MB(0%)  Iter  21  100.00%  Refine biparts\r\r\n00:00:00      7 MB(0%)  Iter  22   11.76%  Refine biparts\r00:00:00      7 MB(0%)  Iter  22   17.65%  Refine biparts\r00:00:00      7 MB(0%)  Iter  22   23.53%  Refine biparts\r00:00:00      7 MB(0%)  Iter  22   29.41%  Refine biparts\r00:00:00      7 MB(0%)  Iter  22   35.29%  Refine biparts\r00:00:00      7 MB(0%)  Iter  22   41.18%  Refine biparts\r00:00:00      7 MB(0%)  Iter  22   47.06%  Refine biparts\r00:00:00      7 MB(0%)  Iter  22   52.94%  Refine biparts\r00:00:00      7 MB(0%)  Iter  22   58.82%  Refine biparts\r00:00:00      7 MB(0%)  Iter  22   64.71%  Refine biparts\r00:00:00      7 MB(0%)  Iter  22   70.59%  Refine biparts\r00:00:00      7 MB(0%)  Iter  22   76.47%  Refine biparts\r00:00:00      7 MB(0%)  Iter  22   82.35%  Refine biparts\r00:00:00      7 MB(0%)  Iter  22   88.24%  Refine biparts\r00:00:00      7 MB(0%)  Iter  22   94.12%  Refine biparts\r00:00:00      7 MB(0%)  Iter  22  100.00%  Refine biparts\r00:00:00      7 MB(0%)  Iter  22  105.88%  Refine biparts\r00:00:00      7 MB(0%)  Iter  22  100.00%  Refine biparts\r\r\n00:00:00      7 MB(0%)  Iter  23   11.76%  Refine biparts\r00:00:00      7 MB(0%)  Iter  23   17.65%  Refine biparts\r00:00:00      7 MB(0%)  Iter  23   23.53%  Refine biparts\r00:00:00      7 MB(0%)  Iter  23   29.41%  Refine biparts\r00:00:00      7 MB(0%)  Iter  23   35.29%  Refine biparts\r00:00:00      7 MB(0%)  Iter  23   41.18%  Refine biparts\r00:00:00      7 MB(0%)  Iter  23   47.06%  Refine biparts\r00:00:00      7 MB(0%)  Iter  23   52.94%  Refine biparts\r00:00:00      7 MB(0%)  Iter  23   58.82%  Refine biparts\r00:00:00      7 MB(0%)  Iter  23   64.71%  Refine biparts\r00:00:00      7 MB(0%)  Iter  23   70.59%  Refine biparts\r00:00:00      7 MB(0%)  Iter  23   76.47%  Refine biparts\r00:00:00      7 MB(0%)  Iter  23   82.35%  Refine biparts\r00:00:00      7 MB(0%)  Iter  23   88.24%  Refine biparts\r00:00:00      7 MB(0%)  Iter  23   94.12%  Refine biparts\r00:00:00      7 MB(0%)  Iter  23  100.00%  Refine biparts\r00:00:00      7 MB(0%)  Iter  23  105.88%  Refine biparts\r00:00:00      7 MB(0%)  Iter  23  100.00%  Refine biparts\r\r\n00:00:00      7 MB(0%)  Iter  24   11.76%  Refine biparts\r00:00:00      7 MB(0%)  Iter  24   17.65%  Refine biparts\r00:00:00      7 MB(0%)  Iter  24   23.53%  Refine biparts\r00:00:00      7 MB(0%)  Iter  24   29.41%  Refine biparts\r00:00:00      7 MB(0%)  Iter  24   35.29%  Refine biparts\r00:00:00      7 MB(0%)  Iter  24   41.18%  Refine biparts\r00:00:00      7 MB(0%)  Iter  24   47.06%  Refine biparts\r00:00:00      7 MB(0%)  Iter  24   52.94%  Refine biparts\r00:00:00      7 MB(0%)  Iter  24   58.82%  Refine biparts\r00:00:00      7 MB(0%)  Iter  24   64.71%  Refine biparts\r00:00:00      7 MB(0%)  Iter  24   70.59%  Refine biparts\r00:00:00      7 MB(0%)  Iter  24   76.47%  Refine biparts\r00:00:00      7 MB(0%)  Iter  24   82.35%  Refine biparts\r00:00:00      7 MB(0%)  Iter  24   88.24%  Refine biparts\r00:00:00      7 MB(0%)  Iter  24   94.12%  Refine biparts\r",
      "00:00:00      7 MB(0%)  Iter  24  100.00%  Refine biparts\r00:00:00      7 MB(0%)  Iter  24  105.88%  Refine biparts\r00:00:00      7 MB(0%)  Iter  24  100.00%  Refine biparts\r\r\n00:00:00      7 MB(0%)  Iter  25   11.76%  Refine biparts\r00:00:00      7 MB(0%)  Iter  25   17.65%  Refine biparts\r00:00:00      7 MB(0%)  Iter  25   23.53%  Refine biparts\r00:00:00      7 MB(0%)  Iter  25   29.41%  Refine biparts\r00:00:00      7 MB(0%)  Iter  25   35.29%  Refine biparts\r00:00:00      7 MB(0%)  Iter  25   41.18%  Refine biparts\r00:00:00      7 MB(0%)  Iter  25   47.06%  Refine biparts\r00:00:00      7 MB(0%)  Iter  25   52.94%  Refine biparts\r00:00:00      7 MB(0%)  Iter  25   58.82%  Refine biparts\r00:00:00      7 MB(0%)  Iter  25   64.71%  Refine biparts\r00:00:00      7 MB(0%)  Iter  25   70.59%  Refine biparts\r00:00:00      7 MB(0%)  Iter  25   76.47%  Refine biparts\r00:00:00      7 MB(0%)  Iter  25   82.35%  Refine biparts\r00:00:00      7 MB(0%)  Iter  25   88.24%  Refine biparts\r00:00:00      7 MB(0%)  Iter  25   94.12%  Refine biparts\r00:00:00      7 MB(0%)  Iter  25  100.00%  Refine biparts\r00:00:00      7 MB(0%)  Iter  25  105.88%  Refine biparts\r00:00:00      7 MB(0%)  Iter  25  100.00%  Refine biparts\r\r\n00:00:00      7 MB(0%)  Iter  26   11.76%  Refine biparts\r00:00:00      7 MB(0%)  Iter  26   17.65%  Refine biparts\r00:00:00      7 MB(0%)  Iter  26   23.53%  Refine biparts\r00:00:00      7 MB(0%)  Iter  26   29.41%  Refine biparts\r00:00:00      7 MB(0%)  Iter  26   35.29%  Refine biparts\r00:00:00      7 MB(0%)  Iter  26   41.18%  Refine biparts\r00:00:00      7 MB(0%)  Iter  26   47.06%  Refine biparts\r00:00:00      7 MB(0%)  Iter  26   52.94%  Refine biparts\r00:00:00      7 MB(0%)  Iter  26   58.82%  Refine biparts\r00:00:00      7 MB(0%)  Iter  26   64.71%  Refine biparts\r00:00:00      7 MB(0%)  Iter  26   70.59%  Refine biparts\r00:00:00      7 MB(0%)  Iter  26   76.47%  Refine biparts\r00:00:00      7 MB(0%)  Iter  26   82.35%  Refine biparts\r00:00:00      7 MB(0%)  Iter  26   88.24%  Refine biparts\r00:00:00      7 MB(0%)  Iter  26   94.12%  Refine biparts\r00:00:00      7 MB(0%)  Iter  26  100.00%  Refine biparts\r00:00:00      7 MB(0%)  Iter  26  105.88%  Refine biparts\r00:00:00      7 MB(0%)  Iter  26  100.00%  Refine biparts\r\r\n\r\nreal\t0m0.581s\r\nuser\t0m0.372s\r\nsys\t0m0.037s\r\n"
     ],
     "output_type": "stream"
    }
   ],
   "source": [
    "!time muscle -in data_part2/protein_SUP35_10seqs.fa -out data_part2/protein_muscle_alignment.fa"
   ],
   "metadata": {
    "collapsed": false,
    "pycharm": {
     "name": "#%%\n",
     "is_executing": false
    }
   }
  },
  {
   "cell_type": "code",
   "execution_count": 10,
   "outputs": [
    {
     "name": "stdout",
     "text": [
      "nthread = 0\r\nnthreadpair = 0\r\nnthreadtb = 0\r\nppenalty_ex = 0\r\nstacksize: 8192 kb\r\nrescale = 1\r\nGap Penalty = -1.53, +0.00, +0.00\r\n\r\n\r\n\r\nMaking a distance matrix ..\r\n\r    1 / 10\r\ndone.\r\n\r\nConstructing a UPGMA tree (efffree=0) ... \r\n\r    0 / 10\r\ndone.\r\n\r\nProgressive alignment 1/2... \r\n\rSTEP     1 / 9  f\b\b\rSTEP     2 / 9  f\b\b\rSTEP     3 / 9  f\b\b\rSTEP     4 / 9  f\b\b",
      "\rSTEP     5 / 9  f\b\b\rSTEP     6 / 9  f\b\b\rSTEP     7 / 9  f\b\b\rSTEP     8 / 9  f\b\b\r\nReallocating..done. *alloclen = 2436\r\n\rSTEP     9 / 9  f\b\b\r\ndone.\r\n\r\nMaking a distance matrix from msa.. \r\n\r    0 / 10\r\ndone.\r\n\r\nConstructing a UPGMA tree (efffree=1) ... \r\n\r    0 / 10\r\ndone.\r\n\r\nProgressive alignment 2/2... \r\n\rSTEP     1 / 9  f\b\b",
      "\rSTEP     2 / 9  f\b\b\rSTEP     3 / 9  f\b\b\rSTEP     4 / 9  f\b\b\rSTEP     5 / 9  f\b\b\rSTEP     6 / 9  f\b\b\rSTEP     7 / 9  f\b\b\rSTEP     8 / 9  f\b\b\r\nReallocating..done. *alloclen = 2436\r\n\rSTEP     9 / 9  f\b\b\r\ndone.\r\n\r\ndisttbfast (aa) Version 7.455\r\nalg=A, model=BLOSUM62, 1.53, -0.00, -0.00, noshift, amax=0.0\r\n0 thread(s)\r\n\r\n",
      "\r\nStrategy:\r\n FFT-NS-2 (Fast but rough)\r\n Progressive method (guide trees were built 2 times.)\r\n\r\nIf unsure which option to use, try 'mafft --auto input > output'.\r\nFor more information, see 'mafft --help', 'mafft --man' and the mafft page.\r\n\r\nThe default gap scoring scheme has been changed in version 7.110 (2013 Oct).\r\nIt tends to insert more gaps into gap-rich regions than previous versions.\r\nTo disable this change, add the --leavegappyregion option.\r\n\r\n",
      "\r\nreal\t0m0.985s\r\nuser\t0m0.281s\r\nsys\t0m0.566s\r\n"
     ],
     "output_type": "stream"
    }
   ],
   "source": [
    "!time mafft data_part2/protein_SUP35_10seqs.fa > data_part2/protein_mafft_alignment.fa"
   ],
   "metadata": {
    "collapsed": false,
    "pycharm": {
     "name": "#%%\n",
     "is_executing": false
    }
   }
  },
  {
   "cell_type": "code",
   "execution_count": 11,
   "outputs": [
    {
     "name": "stdout",
     "text": [
      "EXTRA :2\r\n\r\nKalign version 2.04, Copyright (C) 2004, 2005, 2006 Timo Lassmann\r\n\r\n        Kalign is free software. You can redistribute it and/or modify\r\n        it under the terms of the GNU General Public License as\r\n        published by the Free Software Foundation.\r\n\r\nreading from STDIN: found no sequences.\r\n\r\nreading from data_part2/protein_SUP35_10seqs.fa: found 10 sequences\r\nreading from data_part2/protein_kalign_alignment.fa: found no sequences.\r\n-> output file, in fasta format\r\n\r\nAligning 10 protein sequences with these parameters:\r\n        54.94940948\tgap open penalty\r\n        8.52492046\tgap extension\r\n        4.42409992\tterminal gap penalty\r\n        0.20000000\tbonus\r\nAlignment will be written to file:'data_part2/protein_kalign_alignment.fa'.\r\n\r\nDistance Calculation:\r\n\r       2 percent done\r       4 percent done\r       7 percent done\r       9 percent done\r      11 percent done\r      13 percent done\r      16 percent done\r      18 percent done\r      20 percent done\r      22 percent done\r      24 percent done\r      27 percent done\r      29 percent done\r      31 percent done\r      33 percent done\r      36 percent done\r      38 percent done\r      40 percent done\r      42 percent done\r      44 percent done\r      47 percent done\r      49 percent done\r      51 percent done\r      53 percent done\r      56 percent done\r      58 percent done\r      60 percent done\r      62 percent done\r      64 percent done\r      67 percent done\r      69 percent done\r      71 percent done\r      73 percent done\r      76 percent done\r      78 percent done\r      80 percent done\r      82 percent done\r      84 percent done\r      87 percent done\r      89 percent done\r      91 percent done\r      93 percent done\r      96 percent done\r      98 percent done\r     100 percent done\r\nAlignment:\r\n\r       0 percent done",
      "\r      10 percent done\r      20 percent done",
      "\r      30 percent done",
      "\r      40 percent done",
      "\r      50 percent done\r      60 percent done",
      "\r      70 percent done",
      "\r      80 percent done",
      "\r     100 percent done\r\n\r\nreal\t0m0.644s\r\nuser\t0m0.280s\r\nsys\t0m0.019s\r\n"
     ],
     "output_type": "stream"
    }
   ],
   "source": [
    "!time kalign data_part2/protein_SUP35_10seqs.fa data_part2/protein_kalign_alignment.fa"
   ],
   "metadata": {
    "collapsed": false,
    "pycharm": {
     "name": "#%%\n",
     "is_executing": false
    }
   }
  },
  {
   "cell_type": "code",
   "execution_count": 12,
   "outputs": [
    {
     "name": "stdout",
     "text": [
      "\r\n-----------------\r\n PRANK v.170427:\r\n-----------------\r\n\r\nInput for the analysis\r\n - aligning sequences in 'data_part2/protein_SUP35_10seqs.fa'\r\n - using inferred alignment guide tree\r\n - option '+F' is not used; it can be enabled with '+F'\r\n",
      " - external tools available:\r\n    MAFFT for initial alignment\r\n\r\n",
      "Sequence name <unknown id> <unknown description> is defined more than once! Adding suffix '.1'.\r\nSequence name <unknown id> <unknown description> is defined more than once! Adding suffix '.1'.\r\nSequence name <unknown id> <unknown description>.1 is defined more than once! Adding suffix '.1'.\r\nSequence name <unknown id> <unknown description> is defined more than once! Adding suffix '.1'.\r\nSequence name <unknown id> <unknown description>.1 is defined more than once! Adding suffix '.1'.\r\nSequence name <unknown id> <unknown description>.1.1 is defined more than once! Adding suffix '.1'.\r\nSequence name <unknown id> <unknown description> is defined more than once! Adding suffix '.1'.\r\nSequence name <unknown id> <unknown description>.1 is defined more than once! Adding suffix '.1'.\r\nSequence name <unknown id> <unknown description>.1.1 is defined more than once! Adding suffix '.1'.\r\nSequence name <unknown id> <unknown description>.1.1.1 is defined more than once! Adding suffix '.1'.\r\nSequence name <unknown id> <unknown description> is defined more than once! Adding suffix '.1'.\r\nSequence name <unknown id> <unknown description>.1 is defined more than once! Adding suffix '.1'.\r\nSequence name <unknown id> <unknown description>.1.1 is defined more than once! Adding suffix '.1'.\r\nSequence name <unknown id> <unknown description>.1.1.1 is defined more than once! Adding suffix '.1'.\r\nSequence name <unknown id> <unknown description>.1.1.1.1 is defined more than once! Adding suffix '.1'.\r\nSequence name <unknown id> <unknown description> is defined more than once! Adding suffix '.1'.\r\nSequence name <unknown id> <unknown description>.1 is defined more than once! Adding suffix '.1'.\r\nSequence name <unknown id> <unknown description>.1.1 is defined more than once! Adding suffix '.1'.\r\nSequence name <unknown id> <unknown description>.1.1.1 is defined more than once! Adding suffix '.1'.\r\nSequence name <unknown id> <unknown description>.1.1.1.1 is defined more than once! Adding suffix '.1'.\r\nSequence name <unknown id> <unknown description>.1.1.1.1.1 is defined more than once! Adding suffix '.1'.\r\nSequence name <unknown id> <unknown description> is defined more than once! Adding suffix '.1'.\r\nSequence name <unknown id> <unknown description>.1 is defined more than once! Adding suffix '.1'.\r\nSequence name <unknown id> <unknown description>.1.1 is defined more than once! Adding suffix '.1'.\r\nSequence name <unknown id> <unknown description>.1.1.1 is defined more than once! Adding suffix '.1'.\r\nSequence name <unknown id> <unknown description>.1.1.1.1 is defined more than once! Adding suffix '.1'.\r\nSequence name <unknown id> <unknown description>.1.1.1.1.1 is defined more than once! Adding suffix '.1'.\r\nSequence name <unknown id> <unknown description>.1.1.1.1.1.1 is defined more than once! Adding suffix '.1'.\r\nSequence name <unknown id> <unknown description> is defined more than once! Adding suffix '.1'.\r\nSequence name <unknown id> <unknown description>.1 is defined more than once! Adding suffix '.1'.\r\nSequence name <unknown id> <unknown description>.1.1 is defined more than once! Adding suffix '.1'.\r\nSequence name <unknown id> <unknown description>.1.1.1 is defined more than once! Adding suffix '.1'.\r\nSequence name <unknown id> <unknown description>.1.1.1.1 is defined more than once! Adding suffix '.1'.\r\nSequence name <unknown id> <unknown description>.1.1.1.1.1 is defined more than once! Adding suffix '.1'.\r\nSequence name <unknown id> <unknown description>.1.1.1.1.1.1 is defined more than once! Adding suffix '.1'.\r\nSequence name <unknown id> <unknown description>.1.1.1.1.1.1.1 is defined more than once! Adding suffix '.1'.\r\nSequence name <unknown id> <unknown description> is defined more than once! Adding suffix '.1'.\r\nSequence name <unknown id> <unknown description>.1 is defined more than once! Adding suffix '.1'.\r\nSequence name <unknown id> <unknown description>.1.1 is defined more than once! Adding suffix '.1'.\r\nSequence name <unknown id> <unknown description>.1.1.1 is defined more than once! Adding suffix '.1'.\r\nSequence name <unknown id> <unknown description>.1.1.1.1 is defined more than once! Adding suffix '.1'.\r\nSequence name <unknown id> <unknown description>.1.1.1.1.1 is defined more than once! Adding suffix '.1'.\r\nSequence name <unknown id> <unknown description>.1.1.1.1.1.1 is defined more than once! Adding suffix '.1'.\r\nSequence name <unknown id> <unknown description>.1.1.1.1.1.1.1 is defined more than once! Adding suffix '.1'.\r\nSequence name <unknown id> <unknown description>.1.1.1.1.1.1.1.1 is defined more than once! Adding suffix '.1'.\r\nWarning: sequence names changed.\r\n\r\nInput data contained non-IUPAC characters. Those have been replaced with N or X.\r\n",
      "Correcting (arbitrarily) for multifurcating nodes.\r\nCorrecting (arbitrarily) for multifurcating nodes.\r\n\r\nGenerating multiple alignment: iteration 1.\r\n",
      "\r\nAlignment score: 1024\r\nCorrecting (arbitrarily) for multifurcating nodes.\r\n\r\nGenerating multiple alignment: iteration 2.\r\n",
      "\r\nAlignment score: 1393\r\nCorrecting (arbitrarily) for multifurcating nodes.\r\n\r\nGenerating multiple alignment: iteration 3.\r\n",
      "\r\nAlignment score: 1519\r\nCorrecting (arbitrarily) for multifurcating nodes.\r\n\r\nGenerating multiple alignment: iteration 4.\r\n",
      "\r\nAlignment score: 1519\r\nCorrecting (arbitrarily) for multifurcating nodes.\r\n\r\nGenerating multiple alignment: iteration 5.\r\n",
      "\r\nAlignment score: 1519\r\n\r\n\r\nWriting\r\n - alignment to 'data_part2/protein_prank_alignment.fa.best.fas'\r\n\r\nAnalysis done. Total time 248s\r\n\r\n\r\nreal\t4m8.340s\r\nuser\t3m6.703s\r\nsys\t0m5.745s\r\n"
     ],
     "output_type": "stream"
    }
   ],
   "source": [
    "!time prank -o=data_part2/protein_prank_alignment.fa -d=data_part2/protein_SUP35_10seqs.fa"
   ],
   "metadata": {
    "collapsed": false,
    "pycharm": {
     "name": "#%%\n",
     "is_executing": false
    }
   }
  },
  {
   "cell_type": "code",
   "execution_count": 14,
   "outputs": [
    {
     "data": {
      "text/plain": "   Method  Alignment Length  Alignment Entropy  Elapsed Time\n0  muscle               743         188.239341         0.581\n1   mafft               759         193.104041         0.985\n2  kalign               720         192.539250         0.644\n3   prank               777         209.410913       248.340",
      "text/html": "<div>\n<style scoped>\n    .dataframe tbody tr th:only-of-type {\n        vertical-align: middle;\n    }\n\n    .dataframe tbody tr th {\n        vertical-align: top;\n    }\n\n    .dataframe thead th {\n        text-align: right;\n    }\n</style>\n<table border=\"1\" class=\"dataframe\">\n  <thead>\n    <tr style=\"text-align: right;\">\n      <th></th>\n      <th>Method</th>\n      <th>Alignment Length</th>\n      <th>Alignment Entropy</th>\n      <th>Elapsed Time</th>\n    </tr>\n  </thead>\n  <tbody>\n    <tr>\n      <td>0</td>\n      <td>muscle</td>\n      <td>743</td>\n      <td>188.239341</td>\n      <td>0.581</td>\n    </tr>\n    <tr>\n      <td>1</td>\n      <td>mafft</td>\n      <td>759</td>\n      <td>193.104041</td>\n      <td>0.985</td>\n    </tr>\n    <tr>\n      <td>2</td>\n      <td>kalign</td>\n      <td>720</td>\n      <td>192.539250</td>\n      <td>0.644</td>\n    </tr>\n    <tr>\n      <td>3</td>\n      <td>prank</td>\n      <td>777</td>\n      <td>209.410913</td>\n      <td>248.340</td>\n    </tr>\n  </tbody>\n</table>\n</div>"
     },
     "metadata": {},
     "output_type": "execute_result",
     "execution_count": 14
    }
   ],
   "source": [
    "time = {\n",
    "    'muscle': 0.581,\n",
    "    'mafft': 0.985,\n",
    "    'kalign': 0.644,\n",
    "    'prank': 248.340\n",
    "}\n",
    "\n",
    "\n",
    "res = []\n",
    "for method in methods:\n",
    "    length, entropy = get_alignment_length_and_entropy(f'data_part2/protein_{method}_alignment.fa')\n",
    "    res.append([method, length, entropy, time[method]])\n",
    "    \n",
    "pd.DataFrame(res, columns=['Method', 'Alignment Length', 'Alignment Entropy', 'Elapsed Time'])\n",
    "\n"
   ],
   "metadata": {
    "collapsed": false,
    "pycharm": {
     "name": "#%%\n",
     "is_executing": false
    }
   }
  },
  {
   "cell_type": "markdown",
   "source": [
    "The difference in entropy has become smaller, which is due to less information in amino acids than in nucleotides."
   ],
   "metadata": {
    "collapsed": false,
    "pycharm": {
     "name": "#%% md\n",
     "is_executing": false
    }
   }
  }
 ],
 "metadata": {
  "kernelspec": {
   "display_name": "Python 3",
   "language": "python",
   "name": "python3"
  },
  "language_info": {
   "codemirror_mode": {
    "name": "ipython",
    "version": 2
   },
   "file_extension": ".py",
   "mimetype": "text/x-python",
   "name": "python",
   "nbconvert_exporter": "python",
   "pygments_lexer": "ipython2",
   "version": "2.7.6"
  },
  "pycharm": {
   "stem_cell": {
    "cell_type": "raw",
    "source": [],
    "metadata": {
     "collapsed": false
    }
   }
  }
 },
 "nbformat": 4,
 "nbformat_minor": 0
}