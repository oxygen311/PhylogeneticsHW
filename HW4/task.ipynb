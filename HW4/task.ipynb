{
 "cells": [
  {
   "cell_type": "markdown",
   "source": [
    "# A\n",
    "\n",
    "### 1. Build an ML tree (500 bootstrap replicates) for the whole sequence using RAxML or IQ-Tree with GTRCAT model.\n",
    "\n",
    "```raxmlHPC-PTHREADS -f a -x 12345 -# 500 -m GTRCAT -n raxml_gtrcat_sup35.tree -T 16 -s SUP35_aln.best.fas -p 12345```\n",
    "\n",
    "### 2. Build an ML tree (500 bootstrap replicates) with the best partitioning scheme from the previous homework.\n",
    "\n",
    "Using GTR+I+G model:\n",
    "```raxmlHPC-PTHREADS -f a -x 12345 -# 500 -m GTRGAMMAI -n raxml_gtrgammai_sup35.tree -T 16 -s SUP35_aln.best.fas -p 12345```\n",
    "\n",
    "### 3. Root the trees obtained in 1 and 2, and “collapse” (cut-off) clades with bootstrap support < 70%. Display the resulting trees with bootstrap support (you can choose any way to create a picture). Based on the trees constructed, describe the relationship between the taxa S. cerevisiae, S. boulardii, and S. paradoxus.\n",
    "\n",
    "#### GTRCAT\n",
    "![GTRCAT image](data_a/RAxML_bipartitions.raxml_gtrcat_sup35.tree.png)\n",
    "\n",
    "#### GTR + GAMMA + I\n",
    "![GTRGAMMAI image](data_a/RAxML_bipartitions.raxml_gtrgammai_sup35.tree.png)\n",
    "\n",
    "# B\n",
    "\n",
    "Online version of MrBayes was used, results are in folder `data_b`.\n",
    "\n",
    "![MrBayes image](data_b/RAxML_bestTree.raxml_gtrgammai_sup35.tree.png)\n",
    "\n",
    "We can not match topologies of A and B completely by bootstrap cutoff of B."
   ],
   "metadata": {
    "collapsed": false
   }
  }
 ],
 "metadata": {
  "kernelspec": {
   "display_name": "Python 3",
   "language": "python",
   "name": "python3"
  },
  "language_info": {
   "codemirror_mode": {
    "name": "ipython",
    "version": 2
   },
   "file_extension": ".py",
   "mimetype": "text/x-python",
   "name": "python",
   "nbconvert_exporter": "python",
   "pygments_lexer": "ipython2",
   "version": "2.7.6"
  },
  "pycharm": {
   "stem_cell": {
    "cell_type": "raw",
    "source": [],
    "metadata": {
     "collapsed": false
    }
   }
  }
 },
 "nbformat": 4,
 "nbformat_minor": 0
}