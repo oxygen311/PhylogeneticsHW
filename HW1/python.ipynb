{
 "cells": [
  {
   "cell_type": "markdown",
   "source": [
    "## Import libraries and read tree from url"
   ],
   "metadata": {
    "collapsed": false,
    "pycharm": {
     "name": "#%% md\n"
    }
   }
  },
  {
   "cell_type": "code",
   "execution_count": 30,
   "outputs": [],
   "source": [
    "import requests\n",
    "\n",
    "import matplotlib.pyplot as plt\n",
    "\n",
    "from Bio import Phylo\n",
    "from io import StringIO\n",
    "from ete3 import Tree, NodeStyle, TreeStyle\n",
    "\n",
    "\n",
    "link = \"https://www.jasondavies.com/tree-of-life/life.txt\"\n",
    "tree = requests.get(link).text"
   ],
   "metadata": {
    "collapsed": false,
    "pycharm": {
     "name": "#%%\n",
     "is_executing": false
    }
   }
  },
  {
   "cell_type": "markdown",
   "source": [
    "# `Bio.Phylo`\n",
    "## Parsing tree"
   ],
   "metadata": {
    "collapsed": false
   }
  },
  {
   "cell_type": "code",
   "execution_count": 31,
   "outputs": [],
   "source": [
    "phylo_tree = next(Phylo.parse(StringIO(tree), 'newick'))"
   ],
   "metadata": {
    "collapsed": false,
    "pycharm": {
     "name": "#%%\n",
     "is_executing": false
    }
   }
  },
  {
   "cell_type": "markdown",
   "source": [
    "## Draw tree in ASCII"
   ],
   "metadata": {
    "collapsed": false
   }
  },
  {
   "cell_type": "code",
   "execution_count": 32,
   "outputs": [
    {
     "name": "stdout",
     "text": [
      "                             , Escherichia_coli_EDL933\n                             |\n                             | Escherichia_coli_O157_H7\n                             |\n                             , Escherichia_coli_O6\n                             |\n                             | Escherichia_coli_K12\n                             |\n                             , Shigella_flexneri_2a_2457T\n                             |\n                             | Shigella_flexneri_2a_301\n                             |\n                             , Salmonella_enterica\n                             |\n                             | Salmonella_typhi\n                             |\n                             | Salmonella_typhimurium\n                             |\n                             , Yersinia_pestis_Medievalis\n                             |\n                             , Yersinia_pestis_KIM\n                             |\n                            ,| Yersinia_pestis_CO92\n                            ||\n                            || Photorhabdus_luminescens\n                            ||\n                            ||   ___ Blochmannia_floridanus\n                            || ,|\n                            || ||____ Wigglesworthia_brevipalpis\n                            ||_|\n                            |  |___ Buchnera_aphidicola_Bp\n                            |  |\n                            |  | , Buchnera_aphidicola_APS\n                            |  |_|\n                            |    | Buchnera_aphidicola_Sg\n                            |\n                            |, Pasteurella_multocida\n                            ||\n                            || Haemophilus_influenzae\n                           ,||\n                           ||| Haemophilus_ducreyi\n                           ||\n                           ||, Vibrio_vulnificus_YJ016\n                           |||\n                           ||| Vibrio_vulnificus_CMCP6\n                          ,|||\n                          ||,| Vibrio_parahaemolyticus\n                          ||||\n                          |||| Vibrio_cholerae\n                          |||\n                         ,||| Photobacterium_profundum\n                         |||\n                         |||_ Shewanella_oneidensis\n                         ||\n                         || , Pseudomonas_putida\n                         ||,|\n                         |||| Pseudomonas_syringae\n                         | |\n                         | | Pseudomonas_aeruginosa\n                         |\n                         |    , Xylella_fastidiosa_700964\n                         |   _|\n                        ,|  | | Xylella_fastidiosa_9a5c\n                        ||__|\n                        ||  |, Xanthomonas_axonopodis\n                        ||  ||\n                        ||   | Xanthomonas_campestris\n                        ||\n                        ||___ Coxiella_burnetii\n                        |\n                       _|   , Neisseria_meningitidis_A\n                      | |  ,|\n                      | | ,|| Neisseria_meningitidis_B\n                      | | ||\n                      | | || Chromobacterium_violaceum\n                      | |,|\n                      | |||  , Bordetella_pertussis\n                      | ||| _|\n                      | |||| , Bordetella_parapertussis\n                      | |||| |\n                      |  | | | Bordetella_bronchiseptica\n                      |  | |\n                      |  | |_ Ralstonia_solanacearum\n                      |  |\n                      |  |__ Nitrosomonas_europaea\n                     ,|\n                     ||      , Agrobacterium_tumefaciens_Cereon\n                     ||     ,|\n                     ||    ,|| Agrobacterium_tumefaciens_WashU\n                     ||    ||\n                     ||    || Rhizobium_meliloti\n                     ||   ,|\n                     ||   ||, Brucella_suis\n                     ||   |,|\n                     ||   ||| Brucella_melitensis\n                     ||  ,||\n                     ||  |||_ Rhizobium_loti\n                     ||  ||\n                     || _|| , Rhodopseudomonas_palustris\n                     ||| ||_|\n                    ,||| |  | Bradyrhizobium_japonicum\n                    |||| |\n                    || | |__ Caulobacter_crescentus\n                    || |\n                    || |  ______ Wolbachia_sp._wMel\n                    || |_|\n                    ||   |    , Rickettsia_prowazekii\n                    ||   |____|\n                    ||        | Rickettsia_conorii\n                    ||\n                    ||         , Helicobacter_pylori_J99\n                    ||        _|\n                    ||      ,| | Helicobacter_pylori_26695\n                    ||      ||\n                    ||     ,|| Helicobacter_hepaticus\n                    ||     ||\n                    ||_____|| Wolinella_succinogenes\n                    |      |\n                    |      |_ Campylobacter_jejuni\n                    |\n                    | _____ Desulfovibrio_vulgaris\n                    ||\n                    || __ Geobacter_sulfurreducens\n                    |||\n                    |||_____ Bdellovibrio_bacteriovorus\n                   ,||\n                   |||   __ Acidobacterium_capsulatum\n                   |||__|\n                   ||   |___ Solibacter_usitatus\n                   ||\n                   ||______ Fusobacterium_nucleatum\n                   ||\n                   ||  ____ Aquifex_aeolicus\n                   ||_|\n                   || |___ Thermotoga_maritima\n                   ||\n                   ||     __ Thermus_thermophilus\n                   || ___|\n                   |||   |___ Deinococcus_radiodurans\n                   |||\n                   |||______ Dehalococcoides_ethenogenes\n                   |||\n                   |||     _ Nostoc_sp._PCC_7120\n                   |||    |\n                   |||   ,|_ Synechocystis_sp._PCC6803\n                   |||   ||\n                   | |   || Synechococcus_elongatus\n                   | |   |\n                   | |  ,|   , Synechococcus_sp._WH8102\n                   | |  ||  ,|\n                   | |  ||  || Prochlorococcus_marinus_MIT9313\n                   | |  ||  |\n                   | |__||__|_ Prochlorococcus_marinus_SS120\n                   |    |   |\n                   |    |   |_ Prochlorococcus_marinus_CCMP1378\n                   |    |\n                   |    |__ Gloeobacter_violaceus\n                   |\n                   |     ____ Gemmata_obscuriglobus\n                   |  __|\n                   | |  |____ Rhodopirellula_baltica\n                   | |\n                   |,|      , Leptospira_interrogans_L1-130\n                   ||| _____|\n                   ||||     | Leptospira_interrogans_56601\n                   ||||\n                   || |     ___ Treponema_pallidum\n                   || |   _|\n                   || |__| |_ Treponema_denticola\n                   ||    |\n                   ||    |____ Borrelia_burgdorferi\n                   ||\n                   ||           , Tropheryma_whipplei_TW08/27\n                   ||      _____|\n                   ||    _|     | Tropheryma_whipplei_Twist\n                   ||   | |\n                   ||   | |___ Bifidobacterium_longum\n                   ||   |\n                   ||   |    , Corynebacterium_glutamicum_13032\n                   ||   |   ,|\n                   ||   |   || Corynebacterium_glutamicum\n                   ||   |   |\n                   ||___|  _| Corynebacterium_efficiens\n                   ||   | | |\n                   ||   | | | Corynebacterium_diphtheriae\n                   ||   | |\n                   ||   |,| , Mycobacterium_bovis\n                   ||   ||| |\n                   ||   ||| , Mycobacterium_tuberculosis_CDC1551\n                   ||   ||| |\n                   ||   ||| | Mycobacterium_tuberculosis_H37Rv\n                   ||   |||_|\n                   ||    |  | Mycobacterium_leprae\n                   ||    |  |\n                   ||    |  | Mycobacterium_paratuberculosis\n                   ||    |\n                   ||    | , Streptomyces_avermitilis\n                   ||    |_|\n                   ||      | Streptomyces_coelicolor\n  _________________||\n |                 || ______ Fibrobacter_succinogenes\n |                 |,|\n |                 ||| ____ Chlorobium_tepidum\n |                 ||||\n |                 || |    , Porphyromonas_gingivalis\n |                 || |____|\n |                 ||      |_ Bacteroides_thetaiotaomicron\n |                 ||\n |                 ||         , Chlamydophila_pneumoniae_TW183\n |                 ||        ,|\n |                 ||        |, Chlamydia_pneumoniae_J138\n |                 ||        ||\n |                 ||       ,|, Chlamydia_pneumoniae_CWL029\n |                 ||       |||\n |                 ||       ||| Chlamydia_pneumoniae_AR39\n |                 ||_______||\n |                 |        || Chlamydophila_caviae\n |                 |        |\n |                 |        |, Chlamydia_muridarum\n |                 |        ||\n |                 |         | Chlamydia_trachomatis\n |                 |\n |                 |  _ Thermoanaerobacter_tengcongensis\n |                 | |\n |                 |_|  _ Clostridium_tetani\n |                 | | |\n |                 | |_|_ Clostridium_perfringens\n |                 |   |\n |                 |   |_ Clostridium_acetobutylicum\n |                 |\n |                 |         ___ Mycoplasma_mobile\n |                 |      __|\n |                 |     |  |___ Mycoplasma_pulmonis\n |                 |     |\n |                 |     |         _ Mycoplasma_pneumoniae\n |                 |    ,|     ___|\n |                 |    ||   _|   |_ Mycoplasma_genitalium\n |                 |    ||  | |\n |                 |    || ,| |__ Mycoplasma_gallisepticum\n |                 |   _|| ||\n |                 |  | ||_||____ Mycoplasma_penetrans\n |                 |  | |  |\n |                 | ,| |  |____ Ureaplasma_parvum\n |                 | || |\n |                 | || |____ Mycoplasma_mycoides\n |                 | ||\n |                 | ||_____ Phytoplasma_Onion_yellows\n |                 | |\n |                 | |   , Listeria_monocytogenes_F2365\n |                 | |  ,|\n |                 | | ,|| Listeria_monocytogenes_EGD\n |                 | | ||\n |                 | | || Listeria_innocua\n |                 | | |\n |                 | |,|, Oceanobacillus_iheyensis\n |                 | ||,|\n |                 | |||| Bacillus_halodurans\n |                 | |||\n |                 | ||| , Bacillus_cereus_ATCC_14579\n |                 |_||| |\n |                   |||_| Bacillus_cereus_ATCC_10987\n |                   ||| |\n |                   ||| | Bacillus_anthracis\n |                   |||\n |                   |||_ Bacillus_subtilis\n |                   ||\n |                   ||  , Staphylococcus_aureus_MW2\n |                   ||  |\n |                   ||  , Staphylococcus_aureus_N315\n |                   ||__|\n |                   ||  | Staphylococcus_aureus_Mu50\n |                   ||  |\n_|                   ||  | Staphylococcus_epidermidis\n |                   ||\n |                   ||   , Streptococcus_agalactiae_III\n |                   ||   |\n |                   ||   | Streptococcus_agalactiae_V\n |                   ||   |\n |                    |   , Streptococcus_pyogenes_M1\n |                    |   |\n |                    |   , Streptococcus_pyogenes_MGAS8232\n |                    |   |\n |                    |   , Streptococcus_pyogenes_MGAS315\n |                    |   |\n |                    |   | Streptococcus_pyogenes_SSI-1\n |                    |  ,|\n |                    |  || Streptococcus_mutans\n |                    |  ||\n |                    | ,|, Streptococcus_pneumoniae_R6\n |                    | |||\n |                    | ||| Streptococcus_pneumoniae_TIGR4\n |                    |,||\n |                    |||| Lactococcus_lactis\n |                    |||\n |                    ||| Enterococcus_faecalis\n |                     |\n |                     | __ Lactobacillus_johnsonii\n |                     ||\n |                      |_ Lactobacillus_plantarum\n |\n |                      ____ Thalassiosira_pseudonana\n |                     |\n |                     |  __ Cryptosporidium_hominis\n |                     |_|\n |                     | |___ Plasmodium_falciparum\n |                     |\n |                     |  , Oryza_sativa\n |                    ,| _|\n |                    |,| | Arabidopsis_thaliana\n |                    |||\n |                    |||____ Cyanidioschyzon_merolae\n |                    ||\n |                    ||____ Dictyostelium_discoideum\n |                    ||\n |                    ||     , Eremothecium_gossypii\n |                    ||   __|\n |                    || _|  | Saccharomyces_cerevisiae\n |                    ||| |\n |                    ||| |__ Schizosaccharomyces_pombe\n |                    |||\n |                    |||  , Anopheles_gambiae\n |                    ||| ,|\n |                    ||| || Drosophila_melanogaster\n |                    ||| |\n |                   _||| | , Takifugu_rubripes\n |                  | | |,|,|\n |                  | | ||||| Danio_rerio\n |                  | | ||||\n |                  | | ||||, Rattus_norvegicus\n |                  | | |||,|\n |                  | | || || Mus_musculus\n |                  | | || |\n |                  | | || |, Homo_sapiens\n |                  | |  | ||\n |            ______| |  | || Pan_troglodytes\n |           |      | |  | |\n |           |      | |  | | Gallus_gallus\n |           |      | |  |\n |           |      | |  |  , Caenorhabditis_elegans\n |           |      | |  |__|\n |           |      | |     | Caenorhabditis_briggsae\n |           |      | |\n |           |      | |_____ Leishmania_major\n |           |      |\n |           |      |_______ Giardia_lamblia\n |___________|\n             |       __________ Nanoarchaeum_equitans\n             |      |\n             |      |        _ Sulfolobus_tokodaii\n             |     _|   ____|\n             |    | | ,|    |__ Sulfolobus_solfataricus\n             |    | | ||\n             |    | |_||_____ Aeropyrum_pernix\n             |    |   |\n             |    |   |_______ Pyrobaculum_aerophilum\n             |    |\n             |____|          , Thermoplasma_volcanium\n                  |  ________|\n                  | |        | Thermoplasma_acidophilum\n                  | |\n                  | |   ____ Methanobacterium_thermautotrophicum\n                  | | ,|\n                  | | ||____ Methanopyrus_kandleri\n                  |_| |\n                    | |    __ Methanococcus_maripaludis\n                    | |___|\n                    |,|   | Methanococcus_jannaschii\n                    |||\n                    |||    , Pyrococcus_horikoshii\n                    |||   ,|\n                    |||___|| Pyrococcus_abyssi\n                     |    |\n                     |    | Pyrococcus_furiosus\n                     |\n                     | ____ Archaeoglobus_fulgidus\n                     ||\n                      |  _______ Halobacterium_sp._NRC-1\n                      |_|\n                        |   , Methanosarcina_acetivorans\n                        |___|\n                            | Methanosarcina_mazei\n\n"
     ],
     "output_type": "stream"
    }
   ],
   "source": [
    "Phylo.draw_ascii(phylo_tree)\n"
   ],
   "metadata": {
    "collapsed": false,
    "pycharm": {
     "name": "#%%\n",
     "is_executing": false
    }
   }
  },
  {
   "cell_type": "markdown",
   "source": [
    "## Draw and save png/pdf tree"
   ],
   "metadata": {
    "collapsed": false
   }
  },
  {
   "cell_type": "code",
   "execution_count": 33,
   "outputs": [
    {
     "data": {
      "text/plain": "<Figure size 432x288 with 1 Axes>",
      "image/png": "[encoded data removed]"
     },
     "metadata": {
      "needs_background": "light"
     },
     "output_type": "display_data"
    }
   ],
   "source": [
    "plt.rcParams.update({'font.size': 1, 'lines.linewidth': 0.05})\n",
    "Phylo.draw(phylo_tree, do_show=False)\n",
    "plt.axis('off')\n",
    "\n",
    "plt.savefig('bio_phylo.png')\n",
    "plt.savefig('bio_phylo.pdf')\n",
    "plt.show()\n"
   ],
   "metadata": {
    "collapsed": false,
    "pycharm": {
     "name": "#%%\n",
     "is_executing": false
    }
   }
  },
  {
   "cell_type": "markdown",
   "source": [
    "## Changing the format to phyloxml and writing to the file"
   ],
   "metadata": {
    "collapsed": false
   }
  },
  {
   "cell_type": "code",
   "execution_count": 34,
   "outputs": [
    {
     "data": {
      "text/plain": "1"
     },
     "metadata": {},
     "output_type": "execute_result",
     "execution_count": 34
    }
   ],
   "source": [
    "Phylo.convert(StringIO(tree), 'newick', 'tree.xml', 'phyloxml')\n"
   ],
   "metadata": {
    "collapsed": false,
    "pycharm": {
     "name": "#%% \n",
     "is_executing": false
    }
   }
  },
  {
   "cell_type": "markdown",
   "source": [
    "# `ETE toolkit`\n",
    "## Parsing tree\n"
   ],
   "metadata": {
    "collapsed": false
   }
  },
  {
   "cell_type": "code",
   "execution_count": 35,
   "outputs": [],
   "source": [
    "t = Tree(tree, format=1)\n",
    "leaves = t.get_leaves()[:42]\n",
    "t.prune(leaves)"
   ],
   "metadata": {
    "collapsed": false,
    "pycharm": {
     "name": "#%%\n",
     "is_executing": false
    }
   }
  },
  {
   "cell_type": "markdown",
   "source": [
    "## Drawing the pruned tree"
   ],
   "metadata": {
    "collapsed": false
   }
  },
  {
   "cell_type": "code",
   "execution_count": 36,
   "outputs": [],
   "source": [
    "t.render(\"ete_tree.pdf\")\n",
    "pass"
   ],
   "metadata": {
    "collapsed": false,
    "pycharm": {
     "name": "#%% \n",
     "is_executing": false
    }
   }
  },
  {
   "cell_type": "markdown",
   "source": [
    "## Drawing the pruned tree with red dots against blue"
   ],
   "metadata": {
    "collapsed": false,
    "pycharm": {
     "name": "#%% md\n"
    }
   }
  },
  {
   "cell_type": "code",
   "execution_count": 37,
   "outputs": [],
   "source": [
    "nstyle = NodeStyle()\n",
    "nstyle[\"fgcolor\"] = \"red\"\n",
    "\n",
    "for n in t.traverse():\n",
    "   n.set_style(nstyle)\n",
    "\n",
    "t.render(\"ete_tree2.pdf\")\n",
    "pass"
   ],
   "metadata": {
    "collapsed": false,
    "pycharm": {
     "name": "#%% \n",
     "is_executing": false
    }
   }
  },
  {
   "cell_type": "code",
   "execution_count": 37,
   "outputs": [],
   "source": [
    "\n"
   ],
   "metadata": {
    "collapsed": false,
    "pycharm": {
     "name": "#%%\n",
     "is_executing": false
    }
   }
  }
 ],
 "metadata": {
  "kernelspec": {
   "display_name": "Python 3",
   "language": "python",
   "name": "python3"
  },
  "language_info": {
   "codemirror_mode": {
    "name": "ipython",
    "version": 2
   },
   "file_extension": ".py",
   "mimetype": "text/x-python",
   "name": "python",
   "nbconvert_exporter": "python",
   "pygments_lexer": "ipython2",
   "version": "2.7.6"
  },
  "pycharm": {
   "stem_cell": {
    "cell_type": "raw",
    "source": [],
    "metadata": {
     "collapsed": false
    }
   }
  }
 },
 "nbformat": 4,
 "nbformat_minor": 0
}