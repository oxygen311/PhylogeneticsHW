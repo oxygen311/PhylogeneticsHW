{
 "cells": [
  {
   "cell_type": "markdown",
   "metadata": {
    "collapsed": true,
    "pycharm": {
     "name": "#%% md\n"
    }
   },
   "source": [
    "### 1. Build UPGMA and NJ trees for this alignment, add both trees to the report.\n",
    "\n",
    "We will use [Simple Phylogeny](https://www.ebi.ac.uk/Tools/phylogeny/simple_phylogeny/) from EMBL-EBI.\n",
    "\n",
    "### 2. Do they support the choice of Agos + Kla as an external group? \t\n",
    "\n",
    "#### UPGMA\n",
    "![UPGMA image](data/UPGMA.png)\n",
    "\n",
    "#### NJ\n",
    "![UPGMA image](data/NJ.png)\n",
    "\n",
    "UPGMA does support Agos and Kla as outgroup, but NJ does not.\n",
    "\n",
    "\n",
    "### 3. Model selection\n",
    "\n",
    "\n",
    "Model selection by `ModelFinder`:\n",
    "```\n",
    "Akaike Information Criterion:           GTR+F+I+G4\n",
    "Corrected Akaike Information Criterion: GTR+F+I+G4\n",
    "Bayesian Information Criterion:         TIM3+F+I+G4\n",
    "Best-fit model: TIM3+F+I+G4 chosen according to BIC\n",
    "```\n",
    "\n",
    "\n",
    "Model Selection by `jModelTest2`:\n",
    "```\n",
    "::Best Models::\n",
    " \n",
    "\tModel \t\tf(a) \tf(c) \tf(g) \tf(t) \tkappa \ttitv \tRa\tRb\tRc\tRd\tRe\tRf\tpInv \tgamma\n",
    "----------------------------------------------------------------------------------------------------------------------------------------\n",
    "AIC \tGTR+I+G\t\t0.34\t0.20\t0.23\t0.23\t0.00\t0.00\t  2.629   8.832   2.034   2.783  23.758   1.000    0.40\t   1.87\n",
    "BIC \tTIM3+I+G\t0.35\t0.20\t0.23\t0.23\t0.00\t0.00\t  1.653   5.471   1.000   1.653  14.587   1.000    0.40\t   1.85\n",
    "AICc \tGTR+I+G\t\t0.34\t0.20\t0.23\t0.23\t0.00\t0.00\t  2.629   8.832   2.034   2.783  23.758   1.000    0.40\t   1.87\n",
    "DT \tTIM3+I+G\t0.35\t0.20\t0.23\t0.23\t0.00\t0.00\t  1.653   5.471   1.000   1.653  14.587   1.000    0.40\t   1.85\n",
    "```"
   ]
  }
 ],
 "metadata": {
  "kernelspec": {
   "display_name": "Python 3",
   "language": "python",
   "name": "python3"
  },
  "language_info": {
   "codemirror_mode": {
    "name": "ipython",
    "version": 2
   },
   "file_extension": ".py",
   "mimetype": "text/x-python",
   "name": "python",
   "nbconvert_exporter": "python",
   "pygments_lexer": "ipython2",
   "version": "2.7.6"
  },
  "pycharm": {
   "stem_cell": {
    "cell_type": "raw",
    "source": [],
    "metadata": {
     "collapsed": false
    }
   }
  }
 },
 "nbformat": 4,
 "nbformat_minor": 0
}